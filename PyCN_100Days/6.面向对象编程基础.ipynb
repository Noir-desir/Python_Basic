{
 "cells": [
  {
   "cell_type": "markdown",
   "metadata": {
    "collapsed": true
   },
   "source": [
    "# 面向对象编程基础\n",
    "活在当下的程序员应该都听过“面向对象编程”一词，也经常有人问能不能用一句话解释下什么是“面向对象编程”，我们先来看看比较正式的说法。\n",
    ">把一组数据结构和处理它们的方法组成对象（object），把相同行为的对象归纳为类（class），通过类的封装（encapsulation）隐藏内部细节，通过继承（inheritance）实现类的特化（specialization）和泛化（generalization），通过多态（polymorphism）实现基于对象类型的动态分派。\n",
    "\n",
    "之前我们说过“程序是指令的集合”，我们在程序中书写的语句在执行时会变成一条或多条指令然后由CPU去执行。  \n",
    "当然为了简化程序的设计，我们引入了函数的概念，把相对独立且经常重复使用的代码放置到函数中，在需要使用这些功能的时候只要调用函数即可；  \n",
    "如果一个函数的功能过于复杂和臃肿，我们又可以进一步将函数继续切分为子函数来降低系统的复杂性。  \n",
    "不知道大家是否发现，所谓编程就是程序员按照计算机的工作方式控制计算机完成各种任务。  \n",
    "但是，计算机的工作方式与正常人类的思维模式是不同的，如果编程就必须得抛弃人类正常的思维方式去迎合计算机，编程的乐趣就少了很多。\n",
    "\n",
    "## 类和对象\n",
    ">类是对象的蓝图和模板，而对象是类的实例。  \n",
    "\n",
    "从这句话我们至少可以看出，类是抽象的概念，而对象是具体的东西。  \n",
    "在面向对象编程的世界中，一切皆为对象，对象都有属性和行为，每个对象都是独一无二的，而且对象一定属于某个类（型）。  \n",
    "当我们把一大堆拥有共同特征的对象的静态特征（属性）和动态特征（行为）都抽取出来后，就可以定义出一个叫做“类”的东西。\n",
    "\n",
    "## 定义类"
   ]
  },
  {
   "cell_type": "code",
   "execution_count": 1,
   "metadata": {
    "collapsed": true
   },
   "outputs": [],
   "source": [
    "class Student(object):\n",
    "\n",
    "    # __init__是一个特殊方法用于在创建对象时进行初始化操作\n",
    "    # 通过这个方法我们可以为学生对象绑定name和age两个属性\n",
    "    def __init__(self, name, age):\n",
    "        self.name = name\n",
    "        self.age = age\n",
    "\n",
    "    def study(self, course_name):\n",
    "        print('%s正在学习%s.' % (self.name, course_name))\n",
    "\n",
    "\n",
    "    def watch_av(self):\n",
    "        if self.age < 18:\n",
    "            print('%s只能观看《熊出没》.' % self.name)\n",
    "        else:\n",
    "            print('%s正在观看岛国爱情动作片.' % self.name)"
   ]
  },
  {
   "cell_type": "markdown",
   "metadata": {},
   "source": [
    ">说明：写在类中的函数，我们通常称之为（对象的）方法，这些方法就是对象可以接收的消息。\n",
    "\n",
    "### 创建和使用对象\n",
    "当我们定义好一个类之后，可以通过下面的方式来创建对象并给对象发消息。"
   ]
  },
  {
   "cell_type": "code",
   "execution_count": 6,
   "metadata": {},
   "outputs": [
    {
     "name": "stdout",
     "output_type": "stream",
     "text": [
      "jiang正在学习Python程序设计.\n",
      "jiang只能观看《熊出没》.\n",
      "王大锤正在学习思想品德.\n",
      "王大锤正在观看岛国爱情动作片.\n"
     ]
    }
   ],
   "source": [
    "def main():\n",
    "    # 创建学生对象并指定姓名和年龄\n",
    "    stu1 = Student('jiang', 16)\n",
    "    # 给对象发study消息\n",
    "    stu1.study('Python程序设计')\n",
    "    # 给对象发watch_av消息\n",
    "    stu1.watch_av()\n",
    "    stu2 = Student('王大锤', 25)\n",
    "    stu2.study('思想品德')\n",
    "    stu2.watch_av()\n",
    "\n",
    "if __name__ == '__main__':\n",
    "    main()"
   ]
  },
  {
   "cell_type": "markdown",
   "metadata": {},
   "source": [
    "### 访问可见性问题\n",
    "因为在很多面向对象编程语言中，我们通常会将对象的属性设置为私有的（private）或受保护的（protected），  \n",
    "简单的说就是不允许外界访问，而对象的方法通常都是公开的（public），因为公开的方法就是对象能够接受的消息。\n",
    "在Python中，属性和方法的访问权限只有两种，也就是公开的和私有的，如果希望属性是私有的，在给属性命名时可以用两个下划线作为开头，下面的代码可以验证这一点。\n"
   ]
  },
  {
   "cell_type": "code",
   "execution_count": null,
   "metadata": {
    "collapsed": true
   },
   "outputs": [],
   "source": [
    "class Test:\n",
    "    def __init__(self, foo):\n",
    "        self.__foo = foo\n",
    "\n",
    "    def __bar(self):\n",
    "        print(self.__foo)\n",
    "        print('__bar')\n",
    "\n",
    "\n",
    "def main():\n",
    "    test = Test('hello')\n",
    "    # AttributeError: 'Test' object has no attribute '__bar'\n",
    "    test.__bar()\n",
    "    # AttributeError: 'Test' object has no attribute '__foo'\n",
    "    print(test.__foo)\n",
    "\n",
    "\n",
    "if __name__ == \"__main__\":\n",
    "    main()"
   ]
  },
  {
   "cell_type": "markdown",
   "metadata": {},
   "source": [
    "但是，Python并没有从语法上严格保证私有属性或方法的私密性，  \n",
    "它只是给私有的属性和方法换了一个名字来“妨碍”对它们的访问，  \n",
    "事实上如果你知道更换名字的规则仍然可以访问到它们，  \n",
    "下面的代码就可以验证这一点。  \n",
    "之所以这样设定，因为绝大多数程序员都认为开放比封闭要好，而且程序员要自己为自己的行为负责。"
   ]
  },
  {
   "cell_type": "code",
   "execution_count": 4,
   "metadata": {},
   "outputs": [
    {
     "name": "stdout",
     "output_type": "stream",
     "text": [
      "hello\n",
      "__bar\n",
      "hello\n"
     ]
    }
   ],
   "source": [
    "class Test:\n",
    "    def __init__(self, foo):\n",
    "        self.__foo = foo\n",
    "\n",
    "    def __bar(self):\n",
    "        print(self.__foo)\n",
    "        print('__bar')\n",
    "\n",
    "\n",
    "def main():\n",
    "    test = Test('hello')\n",
    "    test._Test__bar()\n",
    "    print(test._Test__foo)\n",
    "\n",
    "\n",
    "if __name__ == \"__main__\":\n",
    "    main()"
   ]
  },
  {
   "cell_type": "markdown",
   "metadata": {},
   "source": [
    "在实际开发中，我们并不建议将属性设置为私有的，因为这会导致子类无法访问（后面会讲到）。  \n",
    "所以大多数Python程序员会遵循一种命名惯例就是让属性名以单下划线开头来表示属性是受保护的，本类之外的代码在访问这样的属性时应该要保持慎重。  \n",
    "这种做法并不是语法上的规则，单下划线开头的属性和方法外界仍然是可以访问的，所以更多的时候它是一种暗示或隐喻，关于这一点可以看看我的[《Python - 那些年我们踩过的那些坑》](http://blog.csdn.net/jackfrued/article/details/79521404)文章中的讲解。\n",
    "\n",
    "### 面向对象的支柱\n",
    "面向对象有三大支柱：封装、继承和多态。  \n",
    "后面两个概念在下一个章节中进行详细的说明，  \n",
    "这里我们先说一下什么是封装。我自己对封装的理解是“隐藏一切可以隐藏的实现细节，只向外界暴露（提供）简单的编程接口”。  \n",
    "我们在类中定义的方法其实就是把数据和对数据的操作封装起来了，在我们创建了对象之后，只需要给对象发送一个消息（调用方法）就可以执行方法中的代码，也就是说我们只需要知道方法的名字和传入的参数（方法的外部视图），而不需要知道方法内部的实现细节（方法的内部视图）。\n",
    "\n",
    "## 练习\n",
    "### 练习1：定义一个类，描述数字时钟"
   ]
  },
  {
   "cell_type": "code",
   "execution_count": null,
   "metadata": {
    "collapsed": true
   },
   "outputs": [],
   "source": [
    "import time\n",
    "\n",
    "class Clock(object):\n",
    "    def __init__(self,hour=0,minute=0,sec=0):\n",
    "        self._hour = hour\n",
    "        self._minute = minute\n",
    "        self._sec = sec\n",
    "    def run(self):\n",
    "        self._sec +=1\n",
    "        if self._sec == 60:\n",
    "            self._sec = 0\n",
    "            self._minute += 1\n",
    "            if self._minute == 60:\n",
    "                self._minute = 0\n",
    "                self._hour += 1\n",
    "                if self._hour == 24:\n",
    "                    self._hour = 0\n",
    "    \n",
    "    def __str__(self):\n",
    "        return '{:2d}时{:2d}分{:2d}秒'.format(self._hour, self._minute, self._sec)\n",
    "def main():\n",
    "    clock = Clock(23,59,58)\n",
    "    while True:\n",
    "        print(clock)\n",
    "        time.sleep(1)\n",
    "        clock.run()\n",
    "\n",
    "if __name__ == '__main__':\n",
    "    main()\n",
    "     "
   ]
  },
  {
   "cell_type": "markdown",
   "metadata": {},
   "source": [
    "### 练习2：定义一个类描述平面上的点并提供移动点和计算到另一个点距离的方法"
   ]
  },
  {
   "cell_type": "code",
   "execution_count": null,
   "metadata": {
    "collapsed": true
   },
   "outputs": [],
   "source": [
    "from math import sqrt\n",
    "\n",
    "class Point(object):\n",
    "    def __init__(self,x=0,y=0):\n",
    "        self.x = x\n",
    "        self.y = y\n",
    "        \n",
    "    def moveTo(self,x,y):\n",
    "        '''\n",
    "        移动到指定位置\n",
    "        '''\n",
    "        self.x=x\n",
    "        self.y=y\n",
    "    \n",
    "    def moveBy(self,dx,dy):\n",
    "        '''\n",
    "        移动增量\n",
    "        '''\n",
    "        self.x += dx\n",
    "        self.y += dy\n",
    "        \n",
    "    def distanceTo(self,other):\n",
    "        dx = self.x - other.x\n",
    "        dy = self.y - other.y\n",
    "        return sqrt(dx**2 + dy**2)\n",
    "    \n",
    "    def __str__(self):\n",
    "        return '(%s, %s)' % (str(self.x), str(self.y))\n",
    "\n",
    "\n",
    "def main():\n",
    "    p1 = Point(3, 5)\n",
    "    p2 = Point()\n",
    "    print(p1)\n",
    "    print(p2)    \n",
    "    p2.moveTo(1,7)\n",
    "    p2.moveBy(-1, 2)\n",
    "    print(p2)\n",
    "    print(p1.distanceTo(p2))\n",
    "\n",
    "\n",
    "if __name__ == '__main__':\n",
    "    main()\n",
    "    "
   ]
  }
 ],
 "metadata": {
  "kernelspec": {
   "display_name": "Python 3",
   "language": "python",
   "name": "python3"
  },
  "language_info": {
   "codemirror_mode": {
    "name": "ipython",
    "version": 3
   },
   "file_extension": ".py",
   "mimetype": "text/x-python",
   "name": "python",
   "nbconvert_exporter": "python",
   "pygments_lexer": "ipython3",
   "version": "3.6.3"
  }
 },
 "nbformat": 4,
 "nbformat_minor": 2
}
