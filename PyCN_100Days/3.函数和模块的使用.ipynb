{
 "cells": [
  {
   "cell_type": "markdown",
   "metadata": {},
   "source": [
    "在讲解本章节的内容之前，我们先来研究一道数学题，请说出下面的方程有多少组正整数解。\n",
    "\n",
    "$$x_1 + x_2 + x_3 + x_4 = 8$$\n",
    "事实上，上面的问题等同于将8个苹果分成四组，每组至少一个苹果有多少种方案。\n",
    "\n",
    "$$C_M^N =\\frac{M!}{N!(M-N)!}, \\text{(M=8, N=4)} $$\n",
    "\n",
    "可以用Python的程序来计算出这个值，代码如下所示。"
   ]
  },
  {
   "cell_type": "code",
   "execution_count": 1,
   "metadata": {},
   "outputs": [
    {
     "name": "stdout",
     "output_type": "stream",
     "text": [
      "m = 6\n",
      "n = 9\n",
      "0\n"
     ]
    }
   ],
   "source": [
    "\"\"\"\n",
    "\n",
    "输入M和N计算C(M,N)\n",
    "\n",
    "\"\"\"\n",
    "\n",
    "m = int(input('m = '))\n",
    "n = int(input('n = '))\n",
    "fm = 1\n",
    "for num in range(1, m + 1):\n",
    "    fm *= num\n",
    "fn = 1\n",
    "for num in range(1, n + 1):\n",
    "    fn *= num\n",
    "fmn = 1\n",
    "for num in range(1, m - n + 1):\n",
    "    fmn *= num\n",
    "print(fm // fn // fmn)"
   ]
  },
  {
   "cell_type": "markdown",
   "metadata": {},
   "source": [
    "### 函数的作用\n",
    "在上面的代码中，我们做了3次求阶乘，这样的代码实际上就是重复代码。  \n",
    "要写出高质量的代码首先要解决的就是重复代码的问题。  \n",
    "对于上面的代码来说，我们可以将计算阶乘的功能封装到一个称之为“函数”的功能模块中，在需要计算阶乘的地方，我们只需要“调用”这个“函数”就可以了。\n",
    "\n",
    "### 定义函数\n",
    "在Python中可以使用def关键字来定义函数，和变量一样每个函数也有一个响亮的名字，而且命名规则跟变量的命名规则是一致的。  \n",
    "在函数名后面的圆括号中可以放置传递给函数的参数，程序中函数的参数就相当于是数学上说的函数的**自变量**，  \n",
    "而函数执行完成后我们可以通过return关键字来返回一个值，这相当于数学上说的函数的**因变量**。  \n",
    "\n",
    "在了解了如何定义函数后，我们可以对上面的代码进行重构，所谓重构就是在不影响代码执行结果的前提下对代码的结构进行调整，重构之后的代码如下所示。"
   ]
  },
  {
   "cell_type": "code",
   "execution_count": 2,
   "metadata": {},
   "outputs": [
    {
     "name": "stdout",
     "output_type": "stream",
     "text": [
      "m = 5\n",
      "n = 5\n",
      "1\n"
     ]
    }
   ],
   "source": [
    "def factorial(num):\n",
    "    \"\"\"\n",
    "    求阶乘    \n",
    "    :param num: 非负整数    \n",
    "    :return: num的阶乘\n",
    "    \"\"\"\n",
    "    result = 1\n",
    "    for n in range(1, num + 1):\n",
    "        result *= n\n",
    "    return result\n",
    "\n",
    "\n",
    "m = int(input('m = '))\n",
    "n = int(input('n = '))\n",
    "# 当需要计算阶乘的时候不用再写循环求阶乘而是直接调用已经定义好的函数\n",
    "print(factorial(m) // factorial(n) // factorial(m - n))\n",
    "    "
   ]
  },
  {
   "cell_type": "markdown",
   "metadata": {},
   "source": [
    "**说明：**Python的math模块中其实已经有一个factorial函数了，事实上要计算阶乘可以直接使用这个现成的函数而不用自己定义。  \n",
    "下面例子中的某些函数其实Python中也是内置了，我们这里是为了讲解函数的定义和使用才把它们又实现了一遍，实际开发中不建议做这种低级的重复性的工作。"
   ]
  },
  {
   "cell_type": "markdown",
   "metadata": {},
   "source": [
    "### 函数的参数\n",
    "\n",
    "函数是绝大多数编程语言中都支持的一个代码的**构建块**，但是Python中的函数与其他编程语言显著的区别就是Python对函数参数的处理。  \n",
    "在Python中，函数的参数可以有默认值，也支持使用可变参数，  \n",
    "所以Python并不需要像其他语言一样支持函数的重载，  \n",
    "因为我们在定义一个函数的时候可以让它有多种不同的使用方式 "
   ]
  },
  {
   "cell_type": "code",
   "execution_count": 3,
   "metadata": {},
   "outputs": [
    {
     "name": "stdout",
     "output_type": "stream",
     "text": [
      "默认两颗色子: 4\n",
      "三颗色子: 11\n",
      "0\n",
      "1\n",
      "3\n",
      "6\n",
      "350\n"
     ]
    }
   ],
   "source": [
    "from random import randint\n",
    "\n",
    "\n",
    "def roll_dice(n=2):\n",
    "    \"\"\"\n",
    "    摇色子\n",
    "    \n",
    "    :param n: 色子的个数\n",
    "    \n",
    "    :return: n颗色子点数之和\n",
    "    \"\"\"\n",
    "    total = 0\n",
    "    for _ in range(n):\n",
    "        total += randint(1, 6)\n",
    "    return total\n",
    "\n",
    "\n",
    "def add(a=0, b=0, c=0):\n",
    "    return a + b + c\n",
    "\n",
    "# 如果没有指定参数那么使用默认值摇两颗色子\n",
    "print('默认两颗色子:', roll_dice())\n",
    "# 摇三颗色子\n",
    "print('三颗色子:', roll_dice(3))\n",
    "\n",
    "# 传递参数时可以不按照设定的顺序进行传递\n",
    "print(add())\n",
    "print(add(1))\n",
    "print(add(1, 2))\n",
    "print(add(1, 2, 3))\n",
    "print(add(c=50, a=100, b=200))\n",
    "\n"
   ]
  },
  {
   "cell_type": "markdown",
   "metadata": {},
   "source": [
    "我们给上面两个函数的参数都设定了默认值，如果在调用函数的时候如果没有传入对应参数的值时将使用该参数的默认值，  \n",
    "所以在上面的代码中我们可以用各种不同的方式去调用add函数，这跟其他很多语言中函数重载的效果是一致的。\n",
    "\n",
    "我们可能会对0个或多个参数进行加法运算，而具体有多少个参数是由调用者来决定，  \n",
    "因此在不确定参数个数的时候，我们可以使用**可变参数**，代码如下所示。"
   ]
  },
  {
   "cell_type": "code",
   "execution_count": 4,
   "metadata": {},
   "outputs": [
    {
     "name": "stdout",
     "output_type": "stream",
     "text": [
      "0\n",
      "1\n",
      "3\n",
      "6\n",
      "25\n"
     ]
    }
   ],
   "source": [
    "# 在参数前使用*表示args是可变参数\n",
    "# 也就是说调用add函数时传入的参数个数可以是0个或多个\n",
    "def add(*args):\n",
    "    total = 0\n",
    "    for val in args:\n",
    "        total += val\n",
    "    return total\n",
    "\n",
    "\n",
    "print(add())\n",
    "print(add(1))\n",
    "print(add(1, 2))\n",
    "print(add(1, 2, 3))\n",
    "print(add(1, 3, 5, 7, 9))"
   ]
  },
  {
   "cell_type": "markdown",
   "metadata": {},
   "source": [
    "### 用模块管理函数\n",
    "对于任何一种编程语言来说，给变量、函数这样的标识符起名字都是一个让人头疼的问题，因为我们会遇到命名冲突这种尴尬的情况。  \n",
    "最简单的场景就是在同一个.py文件中定义了两个同名函数，由于Python没有函数重载的概念，那么后面的定义会覆盖之前的定义，也就意味着两个函数同名函数实际上只有一个是存在的。"
   ]
  },
  {
   "cell_type": "code",
   "execution_count": 5,
   "metadata": {},
   "outputs": [
    {
     "name": "stdout",
     "output_type": "stream",
     "text": [
      "goodbye, world!\n"
     ]
    }
   ],
   "source": [
    "def foo():\n",
    "    print('hello, world!')\n",
    "\n",
    "\n",
    "def foo():\n",
    "    print('goodbye, world!')\n",
    "\n",
    "\n",
    "foo() # 输出goodbye, world!"
   ]
  },
  {
   "cell_type": "markdown",
   "metadata": {},
   "source": [
    "如果项目是由多人协作进行团队开发的时候，团队中可能有多个程序员都定义了名为foo的函数，那么怎么解决这种命名冲突呢？\n",
    "\n",
    "答案其实很简单，Python中每个文件就代表了一个模块（module），我们在不同的模块中可以有同名的函数，在使用函数的时候我们通过import关键字导入指定的模块就可以区分到底要使用的是哪个模块中的foo函数"
   ]
  },
  {
   "cell_type": "code",
   "execution_count": 6,
   "metadata": {},
   "outputs": [
    {
     "ename": "ModuleNotFoundError",
     "evalue": "No module named 'module1'",
     "output_type": "error",
     "traceback": [
      "\u001b[1;31m---------------------------------------------------------------------------\u001b[0m",
      "\u001b[1;31mModuleNotFoundError\u001b[0m                       Traceback (most recent call last)",
      "\u001b[1;32m<ipython-input-6-c325a8582ca7>\u001b[0m in \u001b[0;36m<module>\u001b[1;34m()\u001b[0m\n\u001b[1;32m----> 1\u001b[1;33m \u001b[1;32mimport\u001b[0m \u001b[0mmodule1\u001b[0m \u001b[1;32mas\u001b[0m \u001b[0mm1\u001b[0m \u001b[1;31m# 从module1.py文件导入，命名为m1\u001b[0m\u001b[1;33m\u001b[0m\u001b[0m\n\u001b[0m\u001b[0;32m      2\u001b[0m \u001b[1;32mimport\u001b[0m \u001b[0mmodule2\u001b[0m \u001b[1;32mas\u001b[0m \u001b[0mm2\u001b[0m \u001b[1;31m# 从module2.py文件导入，命名为m2\u001b[0m\u001b[1;33m\u001b[0m\u001b[0m\n\u001b[0;32m      3\u001b[0m \u001b[1;33m\u001b[0m\u001b[0m\n\u001b[0;32m      4\u001b[0m \u001b[0mm1\u001b[0m\u001b[1;33m.\u001b[0m\u001b[0mfoo\u001b[0m\u001b[1;33m(\u001b[0m\u001b[1;33m)\u001b[0m   \u001b[1;31m# 从m1引用函数foo()\u001b[0m\u001b[1;33m\u001b[0m\u001b[0m\n\u001b[0;32m      5\u001b[0m \u001b[0mm2\u001b[0m\u001b[1;33m.\u001b[0m\u001b[0mfoo\u001b[0m\u001b[1;33m(\u001b[0m\u001b[1;33m)\u001b[0m\u001b[1;33m\u001b[0m\u001b[0m\n",
      "\u001b[1;31mModuleNotFoundError\u001b[0m: No module named 'module1'"
     ]
    }
   ],
   "source": [
    "import module1 as m1 # 从module1.py文件导入，命名为m1\n",
    "import module2 as m2 # 从module2.py文件导入，命名为m2\n",
    "\n",
    "m1.foo()   # 从m1引用函数foo()\n",
    "m2.foo()"
   ]
  },
  {
   "cell_type": "markdown",
   "metadata": {},
   "source": [
    "如果我们导入的模块除了定义函数之外还中有可以执行代码，那么Python解释器在导入这个模块时就会执行这些代码。  \n",
    "\n",
    "事实上我们可能并不希望如此，因此如果我们在模块中编写了执行代码，最好是将这些执行代码放入如下所示的条件中，  \n",
    "这样的话除非直接运行该模块，if条件下的这些代码是不会执行的，因为只有直接执行的模块的名字才是“__main__”。"
   ]
  },
  {
   "cell_type": "code",
   "execution_count": 7,
   "metadata": {},
   "outputs": [
    {
     "name": "stdout",
     "output_type": "stream",
     "text": [
      "call foo()\n"
     ]
    }
   ],
   "source": [
    "def foo():\n",
    "    pass\n",
    "\n",
    "\n",
    "def bar():\n",
    "    pass\n",
    "\n",
    "\n",
    "# __name__是Python中一个隐含的变量它代表了模块的名字\n",
    "# 只有被Python解释器直接执行的模块的名字才是__main__\n",
    "if __name__ == '__main__':\n",
    "    print('call foo()')\n",
    "    foo()"
   ]
  },
  {
   "cell_type": "markdown",
   "metadata": {},
   "source": [
    "## 练习\n",
    "### 练习1：实现计算求最大公约数和最小公倍数的函数。"
   ]
  },
  {
   "cell_type": "code",
   "execution_count": 8,
   "metadata": {},
   "outputs": [
    {
     "data": {
      "text/plain": [
       "(3, 45)"
      ]
     },
     "execution_count": 8,
     "metadata": {},
     "output_type": "execute_result"
    }
   ],
   "source": [
    "def gcd(x, y):\n",
    "    if (x%y==0):\n",
    "        return y\n",
    "    else:\n",
    "        return gcd(y, x%y) # 辗转相除法\n",
    "\n",
    "def lcm(x, y):\n",
    "    return x*y//gcd(x, y)  # 公式法\n",
    "\n",
    "gcd(15,9),lcm(15,9)"
   ]
  },
  {
   "cell_type": "markdown",
   "metadata": {},
   "source": [
    "### 练习2：实现判断一个数是不是回文数的函数。"
   ]
  },
  {
   "cell_type": "code",
   "execution_count": 9,
   "metadata": {},
   "outputs": [
    {
     "name": "stdout",
     "output_type": "stream",
     "text": [
      "True\n"
     ]
    }
   ],
   "source": [
    "def is_palindrome(num):\n",
    "    num = str(num)\n",
    "    count_stander = len(num)//2+1\n",
    "    count = 0\n",
    "    while count<count_stander:\n",
    "        if num[count]==num[-1-count]:\n",
    "            count += 1\n",
    "        else:\n",
    "            break\n",
    "    return count == count_stander\n",
    "            \n",
    "print(is_palindrome(2166612))"
   ]
  },
  {
   "cell_type": "markdown",
   "metadata": {},
   "source": [
    "### 练习3：实现判断一个数是不是素数的函数。"
   ]
  },
  {
   "cell_type": "code",
   "execution_count": 13,
   "metadata": {},
   "outputs": [
    {
     "name": "stdout",
     "output_type": "stream",
     "text": [
      "False\n"
     ]
    }
   ],
   "source": [
    "from math import sqrt\n",
    "\n",
    "def is_prime(num):\n",
    "    end = int(sqrt(num))\n",
    "    is_prime = True\n",
    "    for x in range(2, end + 1):\n",
    "        if num % x == 0:\n",
    "            is_prime = False\n",
    "            break\n",
    "    if is_prime and num != 1:\n",
    "        return True\n",
    "    else:\n",
    "        return False\n",
    "\n",
    "print(is_prime(1))"
   ]
  },
  {
   "cell_type": "markdown",
   "metadata": {},
   "source": [
    "### 练习4：写一个程序判断输入的正整数是不是回文素数。"
   ]
  },
  {
   "cell_type": "code",
   "execution_count": 20,
   "metadata": {},
   "outputs": [
    {
     "name": "stdout",
     "output_type": "stream",
     "text": [
      "请输入正整数: 11\n",
      "11是回文素数\n"
     ]
    }
   ],
   "source": [
    "if __name__ == '__main__':\n",
    "    num = int(input('请输入正整数: '))\n",
    "    if is_palindrome(num) and is_prime(num):  # 引用函数\n",
    "        print('%d是回文素数' % num)\n",
    "    else:\n",
    "        print('不是回文素数')"
   ]
  },
  {
   "cell_type": "markdown",
   "metadata": {},
   "source": [
    "从练习2、3、4中可以看出，当我们将代码中重复出现的和相对独立的功能抽取成函数后，  \n",
    "我们可以组合使用这些函数来解决更为复杂的问题，这也是我们为什么要定义和使用函数的一个非常重要的原因。\n",
    "\n",
    "### 变量作用域\n"
   ]
  },
  {
   "cell_type": "code",
   "execution_count": 10,
   "metadata": {},
   "outputs": [
    {
     "name": "stdout",
     "output_type": "stream",
     "text": [
      "100\n",
      "hello\n",
      "True\n"
     ]
    }
   ],
   "source": [
    "def foo():\n",
    "    b = 'hello'\n",
    "\n",
    "    def bar():  # Python中可以在函数内部再定义函数\n",
    "        c = True\n",
    "        print(a)\n",
    "        print(b)\n",
    "        print(c)\n",
    "\n",
    "    bar()\n",
    "# print(c)  # NameError: name 'c' is not defined\n",
    "if __name__ == '__main__':\n",
    "    a = 100\n",
    "#     print(b) # NameError: name 'b' is not defined\n",
    "    foo()"
   ]
  },
  {
   "cell_type": "markdown",
   "metadata": {},
   "source": [
    "if分支中定义了一个**变量a**，这是一个全局变量（global variable），属于**全局作用域**，因为它没有定义在任何一个函数中；  \n",
    "在上面的foo函数中我们定义了**变量b**，这是一个定义在函数中的局部变量（local variable），属于**局部作用域**，在foo函数的外部并不能访问到它；  \n",
    "但对于foo函数内部的bar函数来说，变量b属于**嵌套作用域**，在bar函数中我们是可以访问到它的。  \n",
    "bar函数中的**变量c**属于局部作用域，在bar函数之外是无法访问的。\n",
    "\n",
    "事实上，Python查找一个变量时会按照**局部作用域**、**嵌套作用域**、**全局作用域**和**内置作用域**的顺序进行搜索，前三者我们在上面的代码中已经看到了，所谓的“内置作用域”就是Python内置的那些隐含标识符min、len等都属于内置作用域  \n",
    "\n",
    "再看看下面这段代码，我们希望通过函数调用修改全局变量a的值，但实际上下面的代码是做不到的"
   ]
  },
  {
   "cell_type": "code",
   "execution_count": 12,
   "metadata": {},
   "outputs": [
    {
     "name": "stdout",
     "output_type": "stream",
     "text": [
      "200\n",
      "100\n"
     ]
    }
   ],
   "source": [
    "def foo():\n",
    "    a = 200\n",
    "    print(a)  # 200\n",
    "\n",
    "\n",
    "if __name__ == '__main__':\n",
    "    a = 100\n",
    "    foo()\n",
    "    print(a)  # 100"
   ]
  },
  {
   "cell_type": "markdown",
   "metadata": {},
   "source": [
    "在调用foo函数后，我们发现a的值仍然是100，这是因为当我们在函数foo中写a = 200的时候，是重新定义了一个名字为a的局部变量，它跟全局作用域的a并不是同一个变量，因为局部作用域中有了自己的变量a，因此foo函数不再搜索全局作用域中的a。  \n",
    "如果我们希望在foo函数中修改全局作用域中的a，代码如下所示。"
   ]
  },
  {
   "cell_type": "code",
   "execution_count": 14,
   "metadata": {},
   "outputs": [
    {
     "name": "stdout",
     "output_type": "stream",
     "text": [
      "200\n",
      "200\n"
     ]
    }
   ],
   "source": [
    "def foo():\n",
    "    global a\n",
    "    a = 200\n",
    "    print(a)  # 200\n",
    "\n",
    "\n",
    "if __name__ == '__main__':\n",
    "    a = 100\n",
    "    foo()\n",
    "    print(a)  # 200"
   ]
  },
  {
   "cell_type": "markdown",
   "metadata": {},
   "source": [
    "我们可以使用**global**关键字来指示foo函数中的变量a来自于全局作用域，如果全局作用域中没有a，那么下面一行的代码就会定义变量a并将其置于全局作用域。  \n",
    "同理，如果我们希望函数内部的函数能够修改嵌套作用域中的变量，可以使用**nonlocal**关键字来指示变量来自于嵌套作用域，请大家自行试验。\n",
    "\n",
    "在实际开发中，我们应该尽量减少对全局变量的使用，  \n",
    "因为全局变量的作用域和影响过于广泛，可能会发生意料之外的修改和使用，  \n",
    "除此之外全局变量比局部变量拥有更长的生命周期，可能导致对象占用的内存长时间无法被垃圾回收。  \n",
    "事实上，减少对全局变量的使用，也是降低代码之间耦合度的一个重要举措，同时也是对迪米特法则的践行。(就是说一个对象应当对其他对象有尽可能少的了解,不和陌生人说话)  \n",
    "减少全局变量的使用就意味着我们应该尽量让变量的作用域在函数的内部，但是如果我们希望将一个局部变量的生命周期延长，使其在函数调用结束后依然可以访问，这时候就需要使用闭包，这个我们在后续的内容中进行讲解。\n",
    "\n",
    "说了那么多，其实结论很简单，从现在开始我们可以将Python代码按照下面的格式进行书写，  \n",
    "这一点点的改进其实就是在我们理解了函数和作用域的基础上跨出的巨大的一步。"
   ]
  },
  {
   "cell_type": "code",
   "execution_count": 15,
   "metadata": {
    "collapsed": true
   },
   "outputs": [],
   "source": [
    "def main():\n",
    "    # Todo: Add your code here\n",
    "    pass\n",
    "\n",
    "\n",
    "if __name__ == '__main__':\n",
    "    main()"
   ]
  }
 ],
 "metadata": {
  "kernelspec": {
   "display_name": "Python 3",
   "language": "python",
   "name": "python3"
  },
  "language_info": {
   "codemirror_mode": {
    "name": "ipython",
    "version": 3
   },
   "file_extension": ".py",
   "mimetype": "text/x-python",
   "name": "python",
   "nbconvert_exporter": "python",
   "pygments_lexer": "ipython3",
   "version": "3.6.3"
  }
 },
 "nbformat": 4,
 "nbformat_minor": 2
}
