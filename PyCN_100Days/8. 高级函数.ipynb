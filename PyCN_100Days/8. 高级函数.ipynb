{
 "cells": [
  {
   "cell_type": "markdown",
   "metadata": {},
   "source": [
    "# 高级函数\n",
    "- lambda\n",
    "- zip()\n",
    "- map()\n",
    "- reduce()\n",
    "- filter()"
   ]
  },
  {
   "cell_type": "markdown",
   "metadata": {},
   "source": [
    "## 1. lambda函数\n",
    "lambda函数也叫**匿名函数**，即，函数没有具体的名称。  \n",
    "lambda的一般形式是关键字lambda后面跟一个或多个参数，紧跟一个冒号，以后是一个表达式。  \n",
    "lambda是一个表达式而不是一个语句。它能够出现在Python语法不允许def出现的地方。  \n",
    "作为表达式，lambda返回一个值（即一个新的函数）。  \n",
    "lambda用来编写简单的函数，而def用来处理更强大的任务。\n"
   ]
  },
  {
   "cell_type": "code",
   "execution_count": 3,
   "metadata": {
    "collapsed": false
   },
   "outputs": [
    {
     "name": "stdout",
     "output_type": "stream",
     "text": [
      "6\n",
      "10\n"
     ]
    }
   ],
   "source": [
    "f = lambda x,y,z : x+y+z\n",
    "print(f(1,2,3))\n",
    " \n",
    "g = lambda x,y=2,z=3 : x+y+z\n",
    "print(g(1,z=4,y=5))"
   ]
  },
  {
   "cell_type": "markdown",
   "metadata": {},
   "source": [
    "## 2. zip()函数 \n",
    "zip()是Python的一个内建函数，它接受一系列可迭代的对象（包括0个和1个）作为参数，将对象中对应的元素打包成一个个tuple（元组），然后在python2中返回由这些tuples组成的list；在python3中返回对象，节省内存空间。  \n",
    "若传入参数的长度不等，则返回list的长度和参数中长度最短的对象相同。利用`*`号操作符，可以将list unzip（解压）。"
   ]
  },
  {
   "cell_type": "code",
   "execution_count": 2,
   "metadata": {
    "collapsed": false
   },
   "outputs": [
    {
     "name": "stdout",
     "output_type": "stream",
     "text": [
      "[(1, 4), (2, 5), (3, 6)]\n",
      "[(1, 4), (2, 5)]\n",
      "[(1,), (2,), (3,)]\n"
     ]
    }
   ],
   "source": [
    "a = [1,2,3]\n",
    "b = [4,5,6]\n",
    "c = [7,8,9]\n",
    "d = [4,5]\n",
    "ab=zip(a,b)\n",
    "print(list(ab)) # zip函数的基本运作方式\n",
    "ad=zip(a,d)\n",
    "print(list(ad)) # zip函数的长度处理方式\n",
    "print(list(zip(a))) # zip函数在只有一个参数时运作的方式"
   ]
  },
  {
   "cell_type": "code",
   "execution_count": 12,
   "metadata": {
    "collapsed": false
   },
   "outputs": [
    {
     "name": "stdout",
     "output_type": "stream",
     "text": [
      "<zip object at 0x000002A1BCFA88C8>\n",
      "(1, 2, 3)\n",
      "(4, 5, 6)\n"
     ]
    }
   ],
   "source": [
    "zz=zip(a,b)\n",
    "print(zz)\n",
    "x,y=zip(*zz)\n",
    "print(x)\n",
    "print(y)"
   ]
  },
  {
   "cell_type": "markdown",
   "metadata": {},
   "source": [
    "最常用的地方是矩阵行列互换："
   ]
  },
  {
   "cell_type": "code",
   "execution_count": 20,
   "metadata": {
    "collapsed": false
   },
   "outputs": [
    {
     "data": {
      "text/plain": [
       "[[1, 4, 7], [2, 5, 8], [3, 6, 9]]"
      ]
     },
     "execution_count": 20,
     "metadata": {},
     "output_type": "execute_result"
    }
   ],
   "source": [
    "a = [[1,2,3],[4,5,6],[7,8,9]]\n",
    "list(map(list,zip(*a)))"
   ]
  },
  {
   "cell_type": "markdown",
   "metadata": {},
   "source": [
    "## 3. map()函数\n",
    "**格式：map(func,seq[,seq2…])**   \n",
    "map（）函数是将func作用于seq中的每一个元素，并用一个列表给出返回值。  \n",
    "如果func为None，作用同zip()。(seq表示序列)  \n",
    "\n",
    "\n",
    "- 如果希望把list的每个元素都作平方，就可以用map()函数："
   ]
  },
  {
   "cell_type": "code",
   "execution_count": 15,
   "metadata": {
    "collapsed": false
   },
   "outputs": [
    {
     "name": "stdout",
     "output_type": "stream",
     "text": [
      "[1, 4, 9, 16, 25, 36, 49, 64, 81]\n"
     ]
    }
   ],
   "source": [
    "a=[1, 2, 3, 4, 5, 6, 7, 8, 9]\n",
    "b=map(lambda x:x**2,a)\n",
    "print(list(b))"
   ]
  },
  {
   "cell_type": "markdown",
   "metadata": {},
   "source": [
    "(python 3.x 中map函数返回的是iterators，无法像python2.x 直接返回一个list，故需要再加上一个list()将iterators转化为一个list)"
   ]
  },
  {
   "cell_type": "markdown",
   "metadata": {},
   "source": [
    "## 4. reduce()函数\n",
    "**格式：reduce(function, seq, init)**  \n",
    "reduce()函数即为化简\n",
    "\n",
    "过程：每次迭代，将上一次的迭代结果与下一个元素一同执行一个**二元的func函数**  \n",
    "（第一次时为init的元素，如果没有init则为seq的第一个元素）。  \n",
    "在reduce函数中，init是可选的，如果使用，则作为第一次迭代的第一个元素使用。 "
   ]
  },
  {
   "cell_type": "code",
   "execution_count": 28,
   "metadata": {
    "collapsed": false
   },
   "outputs": [
    {
     "name": "stdout",
     "output_type": "stream",
     "text": [
      "600\n"
     ]
    }
   ],
   "source": [
    "from functools import reduce\n",
    "b = reduce(lambda x,y:x*y, [1,2,3,4,5],5)\n",
    "print(b) # =5（init）*1*2*3*4*5"
   ]
  },
  {
   "cell_type": "code",
   "execution_count": 33,
   "metadata": {
    "collapsed": false
   },
   "outputs": [
    {
     "name": "stdout",
     "output_type": "stream",
     "text": [
      "356\n"
     ]
    }
   ],
   "source": [
    "# 计算年龄之和\n",
    "from functools import reduce\n",
    "scientists =({'name':'Alan Turing', 'age':105},\n",
    "    {'name':'Dennis Ritchie', 'age':76},\n",
    "    {'name':'John von Neumann', 'age':114},\n",
    "    {'name':'Guido van Rossum', 'age':61})\n",
    "# 取到每人的年龄\n",
    "def reducer(acc,value):\n",
    "    total = acc + value['age']\n",
    "    return total\n",
    "\n",
    "totalAge=reduce(reducer,scientists,0) #acc 默认初始值为0\n",
    "print(totalAge)"
   ]
  },
  {
   "cell_type": "markdown",
   "metadata": {},
   "source": [
    "## 5. filter()函数\n",
    "filter()函数用于过滤序列。和map()类似，filter()也接收一个函数和一个序列。\n",
    "和map()不同的是，filter()把传入的函数依次作用于每个元素，然后根据返回值是True还是False决定保留还是丢弃该元素。   \n",
    "例子：删掉偶数"
   ]
  },
  {
   "cell_type": "code",
   "execution_count": 37,
   "metadata": {
    "collapsed": false
   },
   "outputs": [
    {
     "data": {
      "text/plain": [
       "[1, 3, 5]"
      ]
     },
     "execution_count": 37,
     "metadata": {},
     "output_type": "execute_result"
    }
   ],
   "source": [
    "list(filter(lambda x: x%2 == 1, [1,2,3,4,5]))"
   ]
  }
 ],
 "metadata": {
  "anaconda-cloud": {},
  "kernelspec": {
   "display_name": "Python [default]",
   "language": "python",
   "name": "python3"
  },
  "language_info": {
   "codemirror_mode": {
    "name": "ipython",
    "version": 3
   },
   "file_extension": ".py",
   "mimetype": "text/x-python",
   "name": "python",
   "nbconvert_exporter": "python",
   "pygments_lexer": "ipython3",
   "version": "3.5.2"
  }
 },
 "nbformat": 4,
 "nbformat_minor": 2
}
