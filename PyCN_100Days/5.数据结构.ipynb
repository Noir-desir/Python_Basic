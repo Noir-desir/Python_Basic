{
 "cells": [
  {
   "cell_type": "markdown",
   "metadata": {
    "collapsed": true
   },
   "source": [
    "## 字符串"
   ]
  },
  {
   "cell_type": "code",
   "execution_count": null,
   "metadata": {
    "collapsed": true
   },
   "outputs": [],
   "source": [
    "def main():\n",
    "    str1 = 'hello, world!'\n",
    "    # 通过len函数计算字符串的长度\n",
    "    print(len(str1))  # 13\n",
    "    \n",
    "    # 获得字符串首字母大写的拷贝\n",
    "    print(str1.capitalize())  # Hello, world!\n",
    "    \n",
    "    # 获得字符串变大写后的拷贝\n",
    "    print(str1.upper())  # HELLO, WORLD!\n",
    "    \n",
    "    # 从字符串中查找子串所在位置\n",
    "    print(str1.find('or'))  # 8\n",
    "    print(str1.find('shit'))  # -1\n",
    "    \n",
    "    # 与find类似但找不到子串时会引发异常\n",
    "#     print(str1.index('or'))\n",
    "#     print(str1.index('shit'))\n",
    "    \n",
    "    # 检查字符串是否以指定的字符串开头\n",
    "    print(str1.startswith('He'))  # False\n",
    "    print(str1.startswith('hel'))  # True\n",
    "    \n",
    "    # 检查字符串是否以指定的字符串结尾\n",
    "    print(str1.endswith('!'))  # True\n",
    "    \n",
    "    # 将字符串以指定的宽度居中并在两侧填充指定的字符\n",
    "    print(str1.center(50, '*'))\n",
    "    \n",
    "    # 将字符串以指定的宽度靠右放置左侧填充指定的字符\n",
    "    print(str1.rjust(50, ' '))\n",
    "    str2 = 'abc123456'\n",
    "    \n",
    "    # 从字符串中取出指定位置的字符(下标运算)\n",
    "    print(str2[2])  # c\n",
    "    \n",
    "    # 字符串切片(从指定的开始索引到指定的结束索引)\n",
    "    print(str2[2:5])  # c12\n",
    "    print(str2[2:])  # c123456\n",
    "    print(str2[2::2])  # c246\n",
    "    print(str2[::2])  # ac246\n",
    "    print(str2[::-1])  # 654321cba\n",
    "    print(str2[-3:-1])  # 45\n",
    "    \n",
    "    # 检查字符串是否由数字构成\n",
    "    print(str2.isdigit())  # False\n",
    "    \n",
    "    # 检查字符串是否以字母构成\n",
    "    print(str2.isalpha())  # False\n",
    "    \n",
    "    # 检查字符串是否以数字和字母构成\n",
    "    print(str2.isalnum())  # True\n",
    "    str3 = '  jackfrued@126.com '\n",
    "    print(str3)\n",
    "    \n",
    "    # 获得字符串修剪左右两侧空格的拷贝\n",
    "    print(str3.strip())\n",
    "\n",
    "\n",
    "if __name__ == '__main__':\n",
    "    main()"
   ]
  },
  {
   "cell_type": "markdown",
   "metadata": {},
   "source": [
    "除了字符串，Python还内置了多种类型的数据结构，如果要在程序中保存和操作数据，绝大多数时候可以利用现有的数据结构来实现，最常用的包括列表、元组、集合和字典。\n",
    "\n",
    "## 列表\n"
   ]
  },
  {
   "cell_type": "code",
   "execution_count": null,
   "metadata": {},
   "outputs": [],
   "source": [
    "def main():\n",
    "    list1 = [1, 3, 5, 7, 100]\n",
    "    print(list1)\n",
    "    list2 = ['hello'] * 5\n",
    "    print(list2)\n",
    "    \n",
    "    # 计算列表长度(元素个数)    \n",
    "    print(len(list1))\n",
    "    \n",
    "    # 下标(索引)运算\n",
    "    print(list1[0])\n",
    "    print(list1[4])\n",
    "\n",
    "    # print(list1[5])  # IndexError: list index out of range\n",
    "    print(list1[-1])\n",
    "    print(list1[-3])\n",
    "    list1[2] = 300\n",
    "    print(list1)\n",
    "    \n",
    "    # 添加元素\n",
    "    list1.append(200)\n",
    "    list1.insert(1, 400)\n",
    "    list1 += [1000, 2000]\n",
    "    print(list1)\n",
    "    print(len(list1))\n",
    "\n",
    "    # 删除元素\n",
    "    list1.remove(3)\n",
    "    if 1234 in list1:\n",
    "        list1.remove(1234)\n",
    "    del list1[0]\n",
    "    print(list1)\n",
    "\n",
    "    # 清空列表元素\n",
    "    list1.clear()\n",
    "    print(list1)\n",
    "\n",
    "\n",
    "if __name__ == '__main__':\n",
    "    main()"
   ]
  },
  {
   "cell_type": "markdown",
   "metadata": {},
   "source": [
    "和字符串一样，列表也可以做切片操作，通过切片操作我们可以实现对列表的复制或者将列表中的一部分取出来创建出新的列表，代码如下所示。"
   ]
  },
  {
   "cell_type": "code",
   "execution_count": null,
   "metadata": {
    "collapsed": true
   },
   "outputs": [],
   "source": [
    "def main():\n",
    "    fruits = ['grape', 'apple', 'strawberry', 'waxberry']\n",
    "    fruits += ['pitaya', 'pear', 'mango']\n",
    "    \n",
    "    # 循环遍历列表元素\n",
    "    for fruit in fruits:\n",
    "        print(fruit.title(), end=' ')\n",
    "    print()\n",
    "\n",
    "    # 列表切片\n",
    "    fruits2 = fruits[1:4]\n",
    "    print(fruits2)\n",
    "    \n",
    "    # fruit3 = fruits  # 没有复制列表只创建了新的引用\n",
    "    # 可以通过完整切片操作来复制列表\n",
    "    fruits3 = fruits[:]\n",
    "    print(fruits3)\n",
    "    fruits4 = fruits[-3:-1]\n",
    "    print(fruits4)\n",
    "    \n",
    "    # 可以通过反向切片操作来获得倒转后的列表的拷贝\n",
    "    fruits5 = fruits[::-1]\n",
    "    print(fruits5)\n",
    "\n",
    "\n",
    "if __name__ == '__main__':\n",
    "    main()"
   ]
  },
  {
   "cell_type": "markdown",
   "metadata": {},
   "source": [
    "我们还可以使用列表的生成式语法来创建列表，代码如下所示。"
   ]
  },
  {
   "cell_type": "code",
   "execution_count": null,
   "metadata": {
    "collapsed": true
   },
   "outputs": [],
   "source": [
    "import sys\n",
    "\n",
    "\n",
    "def main():\n",
    "    f = [x for x in range(1, 10)]\n",
    "    print(f)\n",
    "    f = [x + y for x in 'ABCDE' for y in '1234567']\n",
    "    print(f)\n",
    "    # 用列表的生成表达式语法创建列表容器\n",
    "    # 用这种语法创建列表之后元素已经准备就绪所以需要耗费较多的内存空间   \n",
    "    f = [x ** 2 for x in range(1, 1000)]\n",
    "    print(sys.getsizeof(f))  # 查看对象占用内存的字节数\n",
    "    print(f)\n",
    "    \n",
    "    # 请注意下面的代码创建的不是一个列表而是一个生成器对象\n",
    "    # 通过生成器可以获取到数据但它不占用额外的空间存储数据\n",
    "    # 每次需要数据的时候就通过内部的运算得到数据(需要花费额外的时间)\n",
    "    f = (x ** 2 for x in range(1, 1000))\n",
    "    print(sys.getsizeof(f))  # 相比生成式生成器不占用存储数据的空间\n",
    "    print(f)\n",
    "    for val in f:\n",
    "        print(val)\n",
    "\n",
    "\n",
    "if __name__ == '__main__':\n",
    "    main()"
   ]
  },
  {
   "cell_type": "markdown",
   "metadata": {},
   "source": [
    "除了上面提到的生成器语法，Python中还有另外一种定义生成器的方式，就是通过yield关键字将一个普通函数改造成生成器函数。  \n",
    "下面的代码演示了如何实现一个生成斐波拉切数列的生成器。所谓斐波拉切数列可以通过下面递归的方法来进行定义：\n",
    "$${\\displaystyle F_{0}=0}$$\n",
    "\n",
    "$${\\displaystyle F_{1}=1}$$\n",
    "\n",
    "$${\\displaystyle F_{n}=F_{n-1}+F_{n-2}}({n}\\geq{2})$$"
   ]
  },
  {
   "cell_type": "code",
   "execution_count": 15,
   "metadata": {},
   "outputs": [
    {
     "name": "stdout",
     "output_type": "stream",
     "text": [
      "1\n",
      "1\n",
      "2\n",
      "3\n",
      "5\n",
      "8\n",
      "13\n",
      "21\n",
      "34\n",
      "55\n",
      "89\n",
      "144\n",
      "233\n",
      "377\n",
      "610\n",
      "987\n",
      "1597\n",
      "2584\n",
      "4181\n",
      "6765\n"
     ]
    }
   ],
   "source": [
    "def fib(n):\n",
    "    a, b = 0, 1\n",
    "    for _ in range(n):\n",
    "        a, b = b, a + b\n",
    "        yield a\n",
    "\n",
    "\n",
    "def main():\n",
    "    for val in fib(20):\n",
    "        print(val)\n",
    "\n",
    "\n",
    "if __name__ == '__main__':\n",
    "    main()"
   ]
  },
  {
   "cell_type": "markdown",
   "metadata": {},
   "source": [
    "## 元组\n",
    "Python 的元组与列表类似，不同之处在于元组的元素不能修改，在前面的代码中我们已经不止一次使用过元组了。  \n",
    "顾名思义，我们把多个元素组合到一起就形成了一个元组，所以它和列表一样可以保存多条数据。  \n",
    "下面的代码演示了如何定义和使用元组。"
   ]
  },
  {
   "cell_type": "code",
   "execution_count": 16,
   "metadata": {},
   "outputs": [
    {
     "name": "stdout",
     "output_type": "stream",
     "text": [
      "('骆昊', 38, True, '四川成都')\n",
      "骆昊\n",
      "四川成都\n",
      "骆昊\n",
      "38\n",
      "True\n",
      "四川成都\n",
      "('王大锤', 20, True, '云南昆明')\n",
      "['王大锤', 20, True, '云南昆明']\n",
      "['李小龙', 25, True, '云南昆明']\n",
      "('apple', 'banana', 'orange')\n"
     ]
    }
   ],
   "source": [
    "def main():\n",
    "    # 定义元组\n",
    "    t = ('骆昊', 38, True, '四川成都')\n",
    "    print(t)\n",
    "\n",
    "    # 获取元组中的元素\n",
    "    print(t[0])\n",
    "    print(t[3])\n",
    "\n",
    "    # 遍历元组中的值\n",
    "    for member in t:\n",
    "        print(member)\n",
    "    \n",
    "    # 重新给元组赋值\n",
    "    # t[0] = '王大锤'  # TypeError\n",
    "    \n",
    "    # 变量t重新引用了新的元组原来的元组将被垃圾回收\n",
    "    t = ('王大锤', 20, True, '云南昆明')\n",
    "    print(t)\n",
    "    \n",
    "    # 将元组转换成列表\n",
    "    person = list(t)\n",
    "    print(person)\n",
    "    \n",
    "    # 列表是可以修改它的元素的\n",
    "    person[0] = '李小龙'\n",
    "    person[1] = 25\n",
    "    print(person)\n",
    "    \n",
    "    # 将列表转换成元组\n",
    "    fruits_list = ['apple', 'banana', 'orange']\n",
    "    fruits_tuple = tuple(fruits_list)\n",
    "    print(fruits_tuple)\n",
    "\n",
    "\n",
    "if __name__ == '__main__':\n",
    "    main()"
   ]
  },
  {
   "cell_type": "markdown",
   "metadata": {},
   "source": [
    "这里有一个非常值得探讨的问题，我们已经有了列表这种数据结构，为什么还需要元组这样的类型呢？\n",
    "\n",
    "1. 元组中的元素是无法修改的，事实上我们在项目中尤其是多线程环境（后面会讲到）中可能更喜欢使用的是那些不变对象（一方面因为对象状态不能修改，所以可以避免由此引起的不必要的程序错误，简单的说就是一个不变的对象要比可变的对象更加容易维护；另一方面因为没有任何一个线程能够修改不变对象的内部状态，一个不变对象自动就是线程安全的，这样就可以省掉处理同步化的开销。一个不变对象可以方便的被共享访问）。所以结论就是：如果不需要对元素进行添加、删除、修改的时候，可以考虑使用元组，当然如果一个方法要返回多个值，使用元组也是不错的选择。\n",
    "2. 元组在创建时间和占用的空间上面都优于列表。我们可以使用sys模块的getsizeof函数来检查存储同样的元素的元组和列表各自占用了多少内存空间，这个很容易做到。我们也可以在ipython中使用魔法指令%timeit来分析创建同样内容的元组和列表所花费的时间"
   ]
  },
  {
   "cell_type": "code",
   "execution_count": 18,
   "metadata": {},
   "outputs": [
    {
     "name": "stdout",
     "output_type": "stream",
     "text": [
      "116 ns ± 0.906 ns per loop (mean ± std. dev. of 7 runs, 10000000 loops each)\n",
      "18.7 ns ± 0.0483 ns per loop (mean ± std. dev. of 7 runs, 100000000 loops each)\n"
     ]
    }
   ],
   "source": [
    "%timeit[1,2,3,4,5],\n",
    "%timeit(1,2,3,4,5)"
   ]
  },
  {
   "cell_type": "markdown",
   "metadata": {},
   "source": [
    "## 集合\n",
    "Python中的集合跟数学上的集合是一致的，不允许有重复元素，而且可以进行交集、并集、差集等运算。"
   ]
  },
  {
   "cell_type": "raw",
   "metadata": {},
   "source": [
    "def main():\n",
    "    set1 = {1, 2, 3, 3, 3, 2}\n",
    "    print(set1)\n",
    "    print('Length =', len(set1))\n",
    "    set2 = set(range(1, 10))\n",
    "    print(set2)\n",
    "    set1.add(4)\n",
    "    set1.add(5)\n",
    "    set2.update([11, 12])\n",
    "    print(set1)\n",
    "    print(set2)\n",
    "    set2.discard(5)\n",
    "    \n",
    "    # remove的元素如果不存在会引发KeyError\n",
    "    if 4 in set2:\n",
    "        set2.remove(4)\n",
    "    print(set2)\n",
    "    \n",
    "    # 遍历集合容器\n",
    "    for elem in set2:\n",
    "        print(elem ** 2, end=' ')\n",
    "    print()\n",
    "    \n",
    "    # 将元组转换成集合\n",
    "    set3 = set((1, 2, 3, 3, 2, 1))\n",
    "    print(set3.pop())\n",
    "    print(set3)\n",
    "    \n",
    "    # 集合的交集、并集、差集、对称差运算\n",
    "    print(set1 & set2)\n",
    "    # print(set1.intersection(set2))\n",
    "    print(set1 | set2)\n",
    "    # print(set1.union(set2))\n",
    "    print(set1 - set2)\n",
    "    # print(set1.difference(set2))\n",
    "    print(set1 ^ set2)\n",
    "    # print(set1.symmetric_difference(set2))\n",
    "    \n",
    "    # 判断子集和超集\n",
    "    print(set2 <= set1)\n",
    "    # print(set2.issubset(set1))\n",
    "    print(set3 <= set1)\n",
    "    # print(set3.issubset(set1))\n",
    "    print(set1 >= set2)\n",
    "    # print(set1.issuperset(set2))\n",
    "    print(set1 >= set3)\n",
    "    # print(set1.issuperset(set3))\n",
    "\n",
    "\n",
    "if __name__ == '__main__':\n",
    "    main()"
   ]
  },
  {
   "cell_type": "markdown",
   "metadata": {},
   "source": [
    "> 说明：Python中允许通过一些特殊的方法来为某种类型或数据结构自定义运算符（后面的章节中会讲到），  \n",
    "上面的代码中我们对集合进行运算的时候可以调用集合对象的方法，也可以直接使用对应的运算符，例如&运算符跟intersection方法的作用就是一样的，  \n",
    "但是使用运算符让代码更加直观。"
   ]
  },
  {
   "cell_type": "markdown",
   "metadata": {},
   "source": [
    "## 字典\n",
    "字典是另一种可变容器模型，类似于我们生活中使用的字典，它可以存储任意类型对象，  \n",
    "与列表、集合不同的是，字典的每个元素都是由一个键和一个值组成的“键值对”，键和值通过冒号分开。  \n",
    "下面的代码演示了如何定义和使用字典。"
   ]
  },
  {
   "cell_type": "code",
   "execution_count": null,
   "metadata": {
    "collapsed": true
   },
   "outputs": [],
   "source": [
    "def main():\n",
    "    scores = {'骆昊': 95, '白元芳': 78, '狄仁杰': 82}\n",
    "    \n",
    "    # 通过键可以获取字典中对应的值\n",
    "    print(scores['骆昊'])\n",
    "    print(scores['狄仁杰'])\n",
    "    \n",
    "    # 对字典进行遍历(遍历的其实是键再通过键取对应的值)\n",
    "    for elem in scores:\n",
    "        print('%s\\t--->\\t%d' % (elem, scores[elem]))\n",
    "    \n",
    "    # 更新字典中的元素\n",
    "    scores['白元芳'] = 65\n",
    "    scores['诸葛王朗'] = 71\n",
    "    scores.update(冷面=67, 方启鹤=85)\n",
    "    print(scores)\n",
    "    if '武则天' in scores:\n",
    "        print(scores['武则天'])\n",
    "    print(scores.get('武则天'))\n",
    "    \n",
    "    # get方法也是通过键获取对应的值但是可以设置默认值\n",
    "    print(scores.get('武则天', 60))\n",
    "    \n",
    "    # 删除字典中的元素\n",
    "    print(scores.popitem())\n",
    "    print(scores)\n",
    "    print(scores.popitem())\n",
    "    print(scores)\n",
    "    print(scores.pop('骆昊'))\n",
    "    print(scores)\n",
    "    \n",
    "    # 清空字典\n",
    "    scores.clear()\n",
    "    print(scores)\n",
    "\n",
    "\n",
    "if __name__ == '__main__':\n",
    "    main()"
   ]
  },
  {
   "cell_type": "markdown",
   "metadata": {},
   "source": [
    "## 练习\n",
    "### 练习1：在屏幕上显示跑马灯文字"
   ]
  },
  {
   "cell_type": "code",
   "execution_count": null,
   "metadata": {
    "collapsed": true
   },
   "outputs": [],
   "source": [
    "import os\n",
    "import time\n",
    "\n",
    "\n",
    "def main():\n",
    "    content = '北京欢迎你为你开天辟地…………'\n",
    "    while True:\n",
    "        # 清理屏幕上的输出\n",
    "        os.system('cls')  \n",
    "        print(content)\n",
    "        # 休眠200毫秒\n",
    "        time.sleep(0.2)\n",
    "        content = content[1:] + content[0]\n",
    "\n",
    "\n",
    "if __name__ == '__main__':\n",
    "    main()"
   ]
  },
  {
   "cell_type": "markdown",
   "metadata": {},
   "source": [
    "### 练习2：设计一个函数产生指定长度的验证码，验证码由大小写字母和数字构成。"
   ]
  },
  {
   "cell_type": "code",
   "execution_count": 37,
   "metadata": {},
   "outputs": [
    {
     "data": {
      "text/plain": [
       "'MSUC24H8'"
      ]
     },
     "execution_count": 37,
     "metadata": {},
     "output_type": "execute_result"
    }
   ],
   "source": [
    "import random\n",
    "def generate_code(code_len=4):\n",
    "    eng = 'qazwsxedcrfvtgbyhnujmikolp'\n",
    "    text = '1234567890'+eng.upper()+eng\n",
    "    code = random.sample(text, code_len)\n",
    "    return \"\".join(code)\n",
    "\n",
    "generate_code(8)"
   ]
  },
  {
   "cell_type": "markdown",
   "metadata": {},
   "source": [
    "### 练习3：设计一个函数返回给定文件名的后缀名。"
   ]
  },
  {
   "cell_type": "code",
   "execution_count": 40,
   "metadata": {},
   "outputs": [
    {
     "data": {
      "text/plain": [
       "'.py'"
      ]
     },
     "execution_count": 40,
     "metadata": {},
     "output_type": "execute_result"
    }
   ],
   "source": [
    "def get_file_extension(file):\n",
    "    dot = file.find('.')\n",
    "    return file[dot:]\n",
    "\n",
    "get_file_extension(r'C:\\Users\\Desktop\\ne.py') # r原始字符串，忽略转义字符 "
   ]
  },
  {
   "cell_type": "markdown",
   "metadata": {},
   "source": [
    "### 练习4：设计一个函数返回传入的列表中最大和第二大的元素的值。"
   ]
  },
  {
   "cell_type": "code",
   "execution_count": 87,
   "metadata": {},
   "outputs": [
    {
     "name": "stdout",
     "output_type": "stream",
     "text": [
      "[98, 45]\n"
     ]
    }
   ],
   "source": [
    " def max_2element(x):\n",
    "    max2=[0,0]\n",
    "        \n",
    "    for i in range(0,len(x)):       \n",
    "        if x[i]>max2[0]:\n",
    "            max2=[x[i],max2[0]]\n",
    "            i +=1\n",
    "        elif x[i]>max2[1]:\n",
    "            max2=[max2[0],x[i]]\n",
    "            i +=1\n",
    "        else:\n",
    "            continue\n",
    "    return max2\n",
    "                \n",
    "        \n",
    "print(max_2element([4,45,8,-2,9,98]))"
   ]
  },
  {
   "cell_type": "markdown",
   "metadata": {},
   "source": [
    "### 练习5：打印杨辉三角\n"
   ]
  },
  {
   "cell_type": "code",
   "execution_count": 92,
   "metadata": {},
   "outputs": [
    {
     "name": "stdout",
     "output_type": "stream",
     "text": [
      "Number of rows: 5\n",
      "1\t\n",
      "1\t1\t\n",
      "1\t2\t1\t\n",
      "1\t3\t3\t1\t\n",
      "1\t4\t6\t4\t1\t\n"
     ]
    }
   ],
   "source": [
    "def main():\n",
    "    num = int(input('Number of rows: '))\n",
    "    yh = [[]] * num\n",
    "    for \n",
    "\n",
    "\n",
    "if __name__ == '__main__':\n",
    "    main()"
   ]
  }
 ],
 "metadata": {
  "kernelspec": {
   "display_name": "Python 3",
   "language": "python",
   "name": "python3"
  },
  "language_info": {
   "codemirror_mode": {
    "name": "ipython",
    "version": 3
   },
   "file_extension": ".py",
   "mimetype": "text/x-python",
   "name": "python",
   "nbconvert_exporter": "python",
   "pygments_lexer": "ipython3",
   "version": "3.6.3"
  }
 },
 "nbformat": 4,
 "nbformat_minor": 2
}
