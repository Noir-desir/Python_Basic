{
 "cells": [
  {
   "cell_type": "markdown",
   "metadata": {},
   "source": [
    "## if语句的使用\n",
    "在Python中，要构造分支结构可以使用if、elif和else关键字。  \n",
    "所谓关键字就是有特殊含义的单词，像if和else就是专门用于构造分支结构的关键字，很显然你不能够使用它作为变量名  \n",
    "下面的例子中演示了如何构造一个分支结构"
   ]
  },
  {
   "cell_type": "code",
   "execution_count": 20,
   "metadata": {},
   "outputs": [
    {
     "name": "stdout",
     "output_type": "stream",
     "text": [
      "x= -1.0\n",
      "y=1.00\n"
     ]
    }
   ],
   "source": [
    "\"\"\"\n",
    "分段函数求值:\n",
    "        3x - 5  (x > 1)  \n",
    "f(x) =  x + 2   (-1 <= x <= 1)  \n",
    "        5x + 3  (x < -1)\n",
    "\"\"\"\n",
    "\n",
    "x =float(input('x= '))\n",
    "\n",
    "if x > 1:\n",
    "    y = 3 * x - 5\n",
    "elif x < -1:\n",
    "    y = 5 * x + 3\n",
    "else:\n",
    "    y = x + 2\n",
    "\n",
    "print('y={:.2f}'.format(y))"
   ]
  },
  {
   "cell_type": "markdown",
   "metadata": {},
   "source": [
    "当然根据实际开发的需要，分支结构是可以嵌套的  \n",
    "在if的内部构造出一个新的分支结构，同理elif和else中也可以再构造新的分支，我们称之为**嵌套的分支结构**"
   ]
  },
  {
   "cell_type": "markdown",
   "metadata": {},
   "source": [
    "## 练习\n",
    "### 练习1：英制单位与公制单位互换"
   ]
  },
  {
   "cell_type": "code",
   "execution_count": 24,
   "metadata": {},
   "outputs": [
    {
     "name": "stdout",
     "output_type": "stream",
     "text": [
      "请输入长度: 58\n",
      "请输入单位: cm\n",
      "58.000000厘米 = 22.834646英寸\n"
     ]
    }
   ],
   "source": [
    "value = float(input('请输入长度: '))\n",
    "unit = input('请输入单位: ')\n",
    "if unit in ['in', '英寸']:\n",
    "    print('%f英寸 = %f厘米' % (value, value * 2.54))\n",
    "elif unit in ['cm', '厘米']:\n",
    "    print('%f厘米 = %f英寸' % (value, value / 2.54))\n",
    "else:\n",
    "    print('请输入有效的单位')"
   ]
  },
  {
   "cell_type": "markdown",
   "metadata": {},
   "source": [
    "### 练习2：百分制成绩转等级制\n",
    "百分制成绩转等级制成绩  \n",
    "90分以上    --> A  \n",
    "80分~89分    --> B  \n",
    "70分~79分\t   --> C  \n",
    "60分~69分    --> D  \n",
    "60分以下    --> E"
   ]
  },
  {
   "cell_type": "code",
   "execution_count": 34,
   "metadata": {},
   "outputs": [
    {
     "name": "stdout",
     "output_type": "stream",
     "text": [
      "请输入成绩: 105\n",
      "你不会这么聪明吧\n",
      "对应的等级是: 优秀\n"
     ]
    }
   ],
   "source": [
    "score = float(input('请输入成绩: '))\n",
    "if score > 100:\n",
    "    grade = '优秀'\n",
    "    print('你不会这么聪明吧')\n",
    "elif score >= 90:\n",
    "    grade = 'A'\n",
    "elif score >= 80:\n",
    "    grade = 'B'\n",
    "elif score >= 70:\n",
    "    grade = 'C'\n",
    "elif score >= 60:\n",
    "    grade = 'D'\n",
    "else:\n",
    "    grade = 'E'\n",
    "print('对应的等级是:', grade)"
   ]
  },
  {
   "cell_type": "markdown",
   "metadata": {},
   "source": [
    "### 练习3：实现一个个人所得税计算器\n",
    "输入月收入和五险一金计算个人所得税"
   ]
  },
  {
   "cell_type": "code",
   "execution_count": 37,
   "metadata": {},
   "outputs": [
    {
     "name": "stdout",
     "output_type": "stream",
     "text": [
      "本月收入: 8000\n",
      "五险一金: 750\n",
      "个人所得税: ￥270.00元\n",
      "实际到手收入: ￥6980.00元\n"
     ]
    }
   ],
   "source": [
    "salary = float(input('本月收入: '))\n",
    "insurance = float(input('五险一金: '))\n",
    "diff = salary - insurance - 3500\n",
    "if diff <= 0:\n",
    "\trate = 0\n",
    "\tdeduction = 0\n",
    "elif diff < 1500:\n",
    "\trate = 0.03\n",
    "\tdeduction = 0\n",
    "elif diff < 4500:\n",
    "\trate = 0.1\n",
    "\tdeduction = 105\n",
    "elif diff < 9000:\n",
    "\trate = 0.2\n",
    "\tdeduction = 555\n",
    "elif diff < 35000:\n",
    "\trate = 0.25\n",
    "\tdeduction = 1005\n",
    "elif diff < 55000:\n",
    "\trate = 0.3\n",
    "\tdeduction = 2755\n",
    "elif diff < 80000:\n",
    "\trate = 0.35\n",
    "\tdeduction = 5505\n",
    "else:\n",
    "\trate = 0.45\n",
    "\tdeduction = 13505\n",
    "tax = abs(diff * rate - deduction)\n",
    "print('个人所得税: ￥%.2f元' % tax)\n",
    "print('实际到手收入: ￥%.2f元' % (diff + 3500 - tax))"
   ]
  }
 ],
 "metadata": {
  "kernelspec": {
   "display_name": "Python 3",
   "language": "python",
   "name": "python3"
  },
  "language_info": {
   "codemirror_mode": {
    "name": "ipython",
    "version": 3
   },
   "file_extension": ".py",
   "mimetype": "text/x-python",
   "name": "python",
   "nbconvert_exporter": "python",
   "pygments_lexer": "ipython3",
   "version": "3.6.3"
  }
 },
 "nbformat": 4,
 "nbformat_minor": 2
}
