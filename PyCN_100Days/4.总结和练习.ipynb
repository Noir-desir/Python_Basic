{
 "cells": [
  {
   "cell_type": "markdown",
   "metadata": {},
   "source": [
    "## 总结和练习\n",
    "\n",
    "### chicken百钱白鸡\n",
    "1只公鸡5元 1只母鸡3元 3只小鸡1元 用100元买100只鸡  \n",
    "问公鸡 母鸡 小鸡各有多少只"
   ]
  },
  {
   "cell_type": "code",
   "execution_count": 12,
   "metadata": {
    "collapsed": false
   },
   "outputs": [
    {
     "name": "stdout",
     "output_type": "stream",
     "text": [
      "公鸡0只，母鸡25只，小鸡75\n",
      "公鸡4只，母鸡18只，小鸡78\n",
      "公鸡8只，母鸡11只，小鸡81\n",
      "公鸡12只，母鸡4只，小鸡84\n"
     ]
    }
   ],
   "source": [
    "for i in range(100):\n",
    "    for n in range(100):\n",
    "        for m in range(100):\n",
    "            if m+n+i == 100:\n",
    "                if 5*m + 3*n + i/3 == 100:\n",
    "                    print('公鸡{0}只，母鸡{1}只，小鸡{2}'.format(m,n,i))"
   ]
  },
  {
   "cell_type": "markdown",
   "metadata": {},
   "source": [
    "### Craps赌博游戏 \n",
    "玩家摇两颗色子 如果第一次摇出7点或11点 玩家胜  \n",
    "如果摇出2点 3点 12点 庄家胜 其他情况游戏继续  \n",
    "\n",
    "玩家再次摇色子 如果摇出7点 庄家胜  \n",
    "如果摇出第一次摇的点数 玩家胜  \n",
    "否则游戏继续 玩家继续摇色子  \n",
    "\n",
    "玩家进入游戏时有1000元的赌注 每次开始时下注金额 全部输光游戏结束  "
   ]
  },
  {
   "cell_type": "code",
   "execution_count": 6,
   "metadata": {
    "collapsed": false
   },
   "outputs": [
    {
     "name": "stdout",
     "output_type": "stream",
     "text": [
      "第一局赌注金额为：1000\n",
      "第一局点数为：7\n",
      "win,你还有2000\n"
     ]
    }
   ],
   "source": [
    "import random \n",
    "money = 1000\n",
    "go_on = False\n",
    "while money>0:\n",
    "    bet = int(input('第一局赌注金额为：'))\n",
    "    first = random.randint(1,6)+random.randint(1,6)\n",
    "    print('第一局点数为：%d' % first)\n",
    "    if first in [7,11]:\n",
    "        money += bet\n",
    "        print('win,你还有%d' % money )\n",
    "    elif first in [2,3,12]:\n",
    "        money -= bet\n",
    "        print('lost,你还有%d' % money)\n",
    "    else:\n",
    "        go_on = True\n",
    "        print('平局，请继续')\n",
    "\n",
    "        while go_on:\n",
    "            bet = int(input('赌注金额为：'))        \n",
    "            current = random.randint(1,6)+random.randint(1,6)\n",
    "            print('玩家摇出了%d点' % current)\n",
    "\n",
    "            if current ==7:\n",
    "                print('庄家胜!')\n",
    "                money -= bet\n",
    "            elif current == first:\n",
    "                print('玩家胜')\n",
    "                money += bet\n",
    "            else:\n",
    "                if money < 0:\n",
    "                    go_on = False\n"
   ]
  }
 ],
 "metadata": {
  "anaconda-cloud": {},
  "kernelspec": {
   "display_name": "Python [default]",
   "language": "python",
   "name": "python3"
  },
  "language_info": {
   "codemirror_mode": {
    "name": "ipython",
    "version": 3
   },
   "file_extension": ".py",
   "mimetype": "text/x-python",
   "name": "python",
   "nbconvert_exporter": "python",
   "pygments_lexer": "ipython3",
   "version": "3.5.2"
  }
 },
 "nbformat": 4,
 "nbformat_minor": 1
}
