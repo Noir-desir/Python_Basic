{
 "cells": [
  {
   "cell_type": "markdown",
   "metadata": {},
   "source": [
    "## 总结和练习\n",
    "\n",
    "### chicken百钱白鸡\n",
    "1只公鸡5元 1只母鸡3元 3只小鸡1元 用100元买100只鸡  \n",
    "问公鸡 母鸡 小鸡各有多少只"
   ]
  },
  {
   "cell_type": "code",
   "execution_count": null,
   "metadata": {
    "collapsed": true
   },
   "outputs": [],
   "source": [
    "for i in range(100):\n",
    "    for n in range(100):\n",
    "        for m in range(100):\n",
    "            if m+n+i == 100:\n",
    "                if 5*m + 3*n + i/3 == 100:\n",
    "                    print('公鸡{0}只，母鸡{1}只，小鸡{2}'.format(m,n,i))"
   ]
  },
  {
   "cell_type": "markdown",
   "metadata": {},
   "source": [
    "### Craps赌博游戏 \n",
    "玩家摇两颗色子 如果第一次摇出7点或11点 玩家胜  \n",
    "如果摇出2点 3点 12点 庄家胜 其他情况游戏继续  \n",
    "\n",
    "玩家再次摇色子 如果摇出7点 庄家胜  \n",
    "如果摇出第一次摇的点数 玩家胜  \n",
    "否则游戏继续 玩家继续摇色子  \n",
    "\n",
    "玩家进入游戏时有1000元的赌注 每次开始时下注金额 全部输光游戏结束  "
   ]
  },
  {
   "cell_type": "code",
   "execution_count": null,
   "metadata": {
    "collapsed": true
   },
   "outputs": [],
   "source": [
    "import random \n",
    "money = 1000\n",
    "\n",
    "while money>0:\n",
    "    bet = int(input('第一局赌注金额为：'))\n",
    "    first = random.randint(1,6)+random.randint(1,6)\n",
    "    print('第一局点数为：%d' % first)\n",
    "    if first in [7,11]:\n",
    "        money += bet\n",
    "        print('win,你还有%d' % money )\n",
    "    elif first in [2,3,12]:\n",
    "        money -= bet\n",
    "        print('lost,你还有%d' % money)\n",
    "    else:\n",
    "        print('平局，请继续')    \n",
    "    \n",
    "    go_on = True\n",
    "    \n",
    "    while go_on:\n",
    "        bet = int(input('赌注金额为：'))        \n",
    "        current = random.randint(1,6)+random.randint(1,6)\n",
    "        print('玩家摇出了%d点' % current)\n",
    "\n",
    "        if current ==7:\n",
    "            money -= bet\n",
    "            print('lost,庄家胜!你还有%d' % money)\n",
    "        elif current == first:\n",
    "            print('win,玩家胜!你还有%d' % money)\n",
    "            money += bet\n",
    "        else:\n",
    "            print('平局请继续')\n",
    "\n",
    "        if money <= 0:\n",
    "            print('游戏结束，你的钱花完了')\n",
    "            go_on = False\n"
   ]
  },
  {
   "cell_type": "markdown",
   "metadata": {},
   "source": [
    "### fibonacci斐波那契数列\n",
    "输出斐波那契数列的前20个数  \n",
    "1 1 2 3 5 8 13 21 ..."
   ]
  },
  {
   "cell_type": "code",
   "execution_count": null,
   "metadata": {
    "collapsed": true
   },
   "outputs": [],
   "source": [
    "a,b = 0,1\n",
    "for i in range(20):\n",
    "    a,b=b,a+b\n",
    "    print(a,end=' ')"
   ]
  },
  {
   "cell_type": "markdown",
   "metadata": {},
   "source": [
    "### guess 猜数字游戏\n",
    "\n",
    "计算机出一个1~100之间的随机数由人来猜  \n",
    "根据人猜的数字分别给出提示大一点/小一点/猜对了\n",
    "记录猜的次数，大于7次，提示智商不足"
   ]
  },
  {
   "cell_type": "code",
   "execution_count": null,
   "metadata": {
    "collapsed": true
   },
   "outputs": [],
   "source": [
    "import random\n",
    "\n",
    "correct= random.randint(1,100)\n",
    "count = 0\n",
    "\n",
    "while correct:\n",
    "    count +=1\n",
    "    guess = int(input('请输入你猜的数字：'))\n",
    "    if guess < correct:\n",
    "        print('比你大一点')\n",
    "    elif guess > correct:\n",
    "        print('比你小一点')\n",
    "    else:\n",
    "        correct -= guess\n",
    "        print('恭喜你猜对了')\n",
    "print('你猜了 %d次' % count)\n",
    "if counter > 7:\n",
    "    print('你的智商余额明显不足')"
   ]
  }
 ],
 "metadata": {
  "anaconda-cloud": {},
  "kernelspec": {
   "display_name": "Python 3",
   "language": "python",
   "name": "python3"
  },
  "language_info": {
   "codemirror_mode": {
    "name": "ipython",
    "version": 3
   },
   "file_extension": ".py",
   "mimetype": "text/x-python",
   "name": "python",
   "nbconvert_exporter": "python",
   "pygments_lexer": "ipython3",
   "version": "3.6.3"
  }
 },
 "nbformat": 4,
 "nbformat_minor": 1
}
