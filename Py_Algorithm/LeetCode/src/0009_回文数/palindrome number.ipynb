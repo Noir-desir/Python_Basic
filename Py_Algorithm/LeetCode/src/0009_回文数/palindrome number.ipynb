{
 "cells": [
  {
   "cell_type": "code",
   "execution_count": 29,
   "metadata": {},
   "outputs": [
    {
     "name": "stdout",
     "output_type": "stream",
     "text": [
      "1 122 end\n",
      "12 12 end\n"
     ]
    },
    {
     "data": {
      "text/plain": [
       "True"
      ]
     },
     "execution_count": 29,
     "metadata": {},
     "output_type": "execute_result"
    }
   ],
   "source": [
    "def isPalindrome(x):\n",
    "    \"\"\"\n",
    "    :type x: int\n",
    "    :rtype: bool\n",
    "    \"\"\"\n",
    "    num = 0 \n",
    "#去除为10的整数且不包括0，去除负数\n",
    "    if x < 0 or (x % 10 == 0 and x != 0 ):\n",
    "        return False        \n",
    "\n",
    "    else:\n",
    "        while(x>num):\n",
    "# x从个位依次剥离，num从头存储。利用求10的余数实现  \n",
    "            num = x % 10 + num * 10\n",
    "\n",
    "            x = x // 10\n",
    "            # print(num,x,'end')\n",
    "\n",
    "        return num == x or x == num//10\n",
    "isPalindrome(1221) # num==num//10\n",
    "isPalindrome(121) # num==x"
   ]
  }
 ],
 "metadata": {
  "kernelspec": {
   "display_name": "Python 3",
   "language": "python",
   "name": "python3"
  },
  "language_info": {
   "codemirror_mode": {
    "name": "ipython",
    "version": 3
   },
   "file_extension": ".py",
   "mimetype": "text/x-python",
   "name": "python",
   "nbconvert_exporter": "python",
   "pygments_lexer": "ipython3",
   "version": "3.6.3"
  }
 },
 "nbformat": 4,
 "nbformat_minor": 2
}
