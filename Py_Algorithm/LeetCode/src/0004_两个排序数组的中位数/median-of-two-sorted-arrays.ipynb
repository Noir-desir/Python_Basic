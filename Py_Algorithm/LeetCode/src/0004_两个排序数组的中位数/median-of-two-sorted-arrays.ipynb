{
 "cells": [
  {
   "cell_type": "markdown",
   "metadata": {},
   "source": [
    "# Myself"
   ]
  },
  {
   "cell_type": "code",
   "execution_count": 2,
   "metadata": {},
   "outputs": [
    {
     "name": "stdout",
     "output_type": "stream",
     "text": [
      "2.5\n"
     ]
    }
   ],
   "source": [
    "def findMedianSortedArrays(nums1, nums2):\n",
    "    \"\"\"\n",
    "    :type nums1: List[int]\n",
    "    :type nums2: List[int]\n",
    "    :rtype: float\n",
    "    \"\"\"\n",
    "    nums=nums1+nums2\n",
    "    nums.sort()\n",
    "    L = len(nums)\n",
    "\n",
    "    if L%2 == 1:\n",
    "        return nums[L//2]\n",
    "    else:\n",
    "        return (nums[L//2-1]+nums[L//2])/2.0\n",
    "        \n",
    "if __name__=='__main__':\n",
    "    nums1=[1,3,4]\n",
    "    nums2=[2]\n",
    "    print(findMedianSortedArrays(nums1, nums2))\n",
    "    "
   ]
  }
 ],
 "metadata": {
  "kernelspec": {
   "display_name": "Python 3",
   "language": "python",
   "name": "python3"
  },
  "language_info": {
   "codemirror_mode": {
    "name": "ipython",
    "version": 3
   },
   "file_extension": ".py",
   "mimetype": "text/x-python",
   "name": "python",
   "nbconvert_exporter": "python",
   "pygments_lexer": "ipython3",
   "version": "3.6.3"
  }
 },
 "nbformat": 4,
 "nbformat_minor": 2
}
