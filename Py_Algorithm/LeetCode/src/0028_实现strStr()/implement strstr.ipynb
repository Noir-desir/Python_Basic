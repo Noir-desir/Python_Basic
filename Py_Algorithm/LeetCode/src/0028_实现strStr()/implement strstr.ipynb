{
 "cells": [
  {
   "cell_type": "code",
   "execution_count": 1,
   "metadata": {
    "collapsed": false
   },
   "outputs": [
    {
     "data": {
      "text/plain": [
       "2"
      ]
     },
     "execution_count": 1,
     "metadata": {},
     "output_type": "execute_result"
    }
   ],
   "source": [
    "def strStr(haystack, needle):\n",
    "    \"\"\"\n",
    "    :type haystack: str\n",
    "    :type needle: str\n",
    "    :rtype: int\n",
    "    \"\"\"\n",
    "# python自带函数    \n",
    "    return haystack.find(needle)\n",
    "\n",
    "strStr(\"hello\",\"ll\")"
   ]
  }
 ],
 "metadata": {
  "anaconda-cloud": {},
  "kernelspec": {
   "display_name": "Python [conda root]",
   "language": "python",
   "name": "conda-root-py"
  },
  "language_info": {
   "codemirror_mode": {
    "name": "ipython",
    "version": 3
   },
   "file_extension": ".py",
   "mimetype": "text/x-python",
   "name": "python",
   "nbconvert_exporter": "python",
   "pygments_lexer": "ipython3",
   "version": "3.5.2"
  }
 },
 "nbformat": 4,
 "nbformat_minor": 1
}
