{
 "cells": [
  {
   "cell_type": "code",
   "execution_count": 1,
   "metadata": {},
   "outputs": [
    {
     "data": {
      "text/plain": [
       "'1113213211'"
      ]
     },
     "execution_count": 1,
     "metadata": {},
     "output_type": "execute_result"
    }
   ],
   "source": [
    "def countAndSay(n):\n",
    "    \"\"\"\n",
    "    :type n: int\n",
    "    :rtype: str\n",
    "    \"\"\"\n",
    "    seq=['1'];top=1;\n",
    "    while n-1>0:\n",
    "        n-=1;index=0;bak=[]\n",
    "        i=0\n",
    "        while i<top:\n",
    "            num=1\n",
    "            while i+1<top and seq[i+1]==seq[i]:i+=1;num+=1\n",
    "            bak.append(chr(num+ord('0')))\n",
    "            bak.append(seq[i])\n",
    "            i+=1\n",
    "        seq=bak;top=len(bak)\n",
    "    return ''.join(seq)\n",
    "\n",
    "countAndSay(8)"
   ]
  }
 ],
 "metadata": {
  "kernelspec": {
   "display_name": "Python 3",
   "language": "python",
   "name": "python3"
  },
  "language_info": {
   "codemirror_mode": {
    "name": "ipython",
    "version": 3
   },
   "file_extension": ".py",
   "mimetype": "text/x-python",
   "name": "python",
   "nbconvert_exporter": "python",
   "pygments_lexer": "ipython3",
   "version": "3.6.3"
  }
 },
 "nbformat": 4,
 "nbformat_minor": 2
}
