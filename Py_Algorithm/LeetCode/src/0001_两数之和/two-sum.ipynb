{
 "cells": [
  {
   "cell_type": "code",
   "execution_count": 6,
   "metadata": {},
   "outputs": [
    {
     "name": "stdout",
     "output_type": "stream",
     "text": [
      "[0, 1]\n"
     ]
    }
   ],
   "source": [
    "def twoSum(nums, target):\n",
    "    \"\"\"\n",
    "    :type nums: List[int]\n",
    "    :type target: int\n",
    "    :rtype: List[int]\n",
    "    \"\"\"\n",
    "    dic = dict()\n",
    "    for key,val in enumerate(nums):\n",
    "        sub = target - val\n",
    "        if sub in dic:\n",
    "            return [dic[sub],key]\n",
    "        else:\n",
    "            dic[val] = key\n",
    "\n",
    "if __name__ == '__main__':       \n",
    "    nums = [2,7,11,15]\n",
    "    target = 9\n",
    "    print(twoSum(nums, target))"
   ]
  },
  {
   "cell_type": "code",
   "execution_count": 7,
   "metadata": {},
   "outputs": [
    {
     "name": "stdout",
     "output_type": "stream",
     "text": [
      "[0, 1]\n"
     ]
    }
   ],
   "source": [
    "def twoSum(nums, target):\n",
    "    \"\"\"\n",
    "    :type nums: List[int]\n",
    "    :type target: int\n",
    "    :rtype: List[int]\n",
    "    \"\"\"\n",
    "    nums_hash = {}\n",
    "    nums_len = len(nums)\n",
    "    for i in range(nums_len):\n",
    "        dif = target - nums[i]\n",
    "        if dif in nums_hash: \n",
    "            return [nums_hash[dif], i]\n",
    "        nums_hash[nums[i]] = i\n",
    "    return []\n",
    "\n",
    "if __name__ == '__main__':       \n",
    "    nums = [2,7,11,15]\n",
    "    target = 9\n",
    "    print(twoSum(nums, target))"
   ]
  }
 ],
 "metadata": {
  "kernelspec": {
   "display_name": "Python 3",
   "language": "python",
   "name": "python3"
  },
  "language_info": {
   "codemirror_mode": {
    "name": "ipython",
    "version": 3
   },
   "file_extension": ".py",
   "mimetype": "text/x-python",
   "name": "python",
   "nbconvert_exporter": "python",
   "pygments_lexer": "ipython3",
   "version": "3.6.3"
  }
 },
 "nbformat": 4,
 "nbformat_minor": 2
}
