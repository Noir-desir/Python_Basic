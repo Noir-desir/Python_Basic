{
 "cells": [
  {
   "cell_type": "code",
   "execution_count": 16,
   "metadata": {},
   "outputs": [
    {
     "name": "stdout",
     "output_type": "stream",
     "text": [
      "False\n",
      "True\n"
     ]
    }
   ],
   "source": [
    "def isValid(s):\n",
    "    \"\"\"\n",
    "    :type s: str\n",
    "    :rtype: bool\n",
    "    \"\"\"\n",
    "    if s=='':\n",
    "        return True\n",
    "\n",
    "    elif len(s)%2 == 1:\n",
    "        return False\n",
    "# 生成键对值，在循环语句中比对\n",
    "    temp = {')':'(',']':'[','}':'{'}\n",
    "\n",
    "# 为了循环语句stack[-1]，指定长度为1，否则容易出错\n",
    "    stack=[None]\n",
    "\n",
    "# 将正括号入栈，末位对称匹配后的正括号的出栈\n",
    "    for index , val in enumerate(s):\n",
    "        if val in temp and temp[val]==stack[-1]:\n",
    "            stack.pop()\n",
    "        else:\n",
    "            stack.append(val)\n",
    "# 节点验证\n",
    "        # print(stack)\n",
    "    return len(stack) == 1\n",
    "\n",
    "print(isValid('{}{}({[}])'))\n",
    "print(isValid('{}{}([])'))"
   ]
  }
 ],
 "metadata": {
  "kernelspec": {
   "display_name": "Python 3",
   "language": "python",
   "name": "python3"
  },
  "language_info": {
   "codemirror_mode": {
    "name": "ipython",
    "version": 3
   },
   "file_extension": ".py",
   "mimetype": "text/x-python",
   "name": "python",
   "nbconvert_exporter": "python",
   "pygments_lexer": "ipython3",
   "version": "3.6.3"
  }
 },
 "nbformat": 4,
 "nbformat_minor": 2
}
