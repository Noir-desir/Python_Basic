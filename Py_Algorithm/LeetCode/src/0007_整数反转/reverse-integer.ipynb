{
 "cells": [
  {
   "cell_type": "code",
   "execution_count": 1,
   "metadata": {},
   "outputs": [
    {
     "data": {
      "text/plain": [
       "-321"
      ]
     },
     "execution_count": 1,
     "metadata": {},
     "output_type": "execute_result"
    }
   ],
   "source": [
    "def reverse(x):\n",
    "    \"\"\"\n",
    "    :type x: int\n",
    "    :rtype: int\n",
    "    \"\"\"\n",
    "# 数字转换字符串，字符串索引可以解决\n",
    "    str_x=str(x)\n",
    "\n",
    "    if str_x[0] !='-':\n",
    "        x= int(str_x[::-1])\n",
    "    else:\n",
    "        x= 0 - int(str_x[1:][::-1])\n",
    "    if x>2**31 or x <-2**31:\n",
    "        return 0\n",
    "    else:\n",
    "        return x\n",
    "\n",
    "reverse(-123)"
   ]
  },
  {
   "cell_type": "code",
   "execution_count": 8,
   "metadata": {},
   "outputs": [
    {
     "data": {
      "text/plain": [
       "(0, -7412)"
      ]
     },
     "execution_count": 8,
     "metadata": {},
     "output_type": "execute_result"
    }
   ],
   "source": [
    "def reverse(x):\n",
    "    \"\"\"\n",
    "    :type x: int\n",
    "    :rtype: int\n",
    "    \"\"\"\n",
    "    str_x=str(x)\n",
    "\n",
    "    if str_x[0] !='-':\n",
    "        x= int(str_x[::-1])\n",
    "    else:\n",
    "        x= 0 - int(str_x[1:][::-1])\n",
    "# 三目运算符，判断是否溢出\n",
    "# 如果-2147483648 < x < 2147483647则返回x，否则返回0\n",
    "    return x if -2147483648 < x < 2147483647 else 0\n",
    "\n",
    "(reverse(2147483648),reverse(-2147))"
   ]
  }
 ],
 "metadata": {
  "kernelspec": {
   "display_name": "Python 3",
   "language": "python",
   "name": "python3"
  },
  "language_info": {
   "codemirror_mode": {
    "name": "ipython",
    "version": 3
   },
   "file_extension": ".py",
   "mimetype": "text/x-python",
   "name": "python",
   "nbconvert_exporter": "python",
   "pygments_lexer": "ipython3",
   "version": "3.6.3"
  }
 },
 "nbformat": 4,
 "nbformat_minor": 2
}
