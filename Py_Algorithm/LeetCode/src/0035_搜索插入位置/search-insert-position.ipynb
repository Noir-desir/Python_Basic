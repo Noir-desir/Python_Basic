{
 "cells": [
  {
   "cell_type": "code",
   "execution_count": 21,
   "metadata": {},
   "outputs": [
    {
     "data": {
      "text/plain": [
       "4"
      ]
     },
     "execution_count": 21,
     "metadata": {},
     "output_type": "execute_result"
    }
   ],
   "source": [
    "# 遍历所有元素，复杂度O(n)\n",
    "\n",
    "def searchInsert(nums, target):\n",
    "        \"\"\"\n",
    "        :type nums: List[int]\n",
    "        :type target: int\n",
    "        :rtype: int\n",
    "        \"\"\"\n",
    "        i = 0\n",
    "        for num in nums: \n",
    "            if num>=target:\n",
    "                return i\n",
    "            i+=1\n",
    "            \n",
    "        return i\n",
    "searchInsert([1,3,5,6],7)"
   ]
  },
  {
   "cell_type": "code",
   "execution_count": 32,
   "metadata": {},
   "outputs": [
    {
     "name": "stdout",
     "output_type": "stream",
     "text": [
      "0 4 2\n"
     ]
    },
    {
     "data": {
      "text/plain": [
       "2"
      ]
     },
     "execution_count": 32,
     "metadata": {},
     "output_type": "execute_result"
    }
   ],
   "source": [
    "# 二分查找法：\n",
    "def searchInsert1(nums, target):\n",
    "    \"\"\"\n",
    "    :type nums: List[int]\n",
    "    :type target: int\n",
    "    :rtype: int\n",
    "    \"\"\"\n",
    "    l=0\n",
    "    r=len(nums)       \n",
    "    while l<r:\n",
    "# 取整数时，注意舍去部分的边界值加一\n",
    "        mid = (l+r)//2\n",
    "        \n",
    "        if nums[mid]<target:\n",
    "# 左边界+1，\n",
    "            l = mid+1\n",
    "        elif nums[mid]>target:\n",
    "            r = mid\n",
    "        else:\n",
    "            return mid\n",
    "    return r\n",
    "\n",
    "searchInsert1([1,3,5,6],5)"
   ]
  }
 ],
 "metadata": {
  "kernelspec": {
   "display_name": "Python 3",
   "language": "python",
   "name": "python3"
  },
  "language_info": {
   "codemirror_mode": {
    "name": "ipython",
    "version": 3
   },
   "file_extension": ".py",
   "mimetype": "text/x-python",
   "name": "python",
   "nbconvert_exporter": "python",
   "pygments_lexer": "ipython3",
   "version": "3.6.3"
  }
 },
 "nbformat": 4,
 "nbformat_minor": 2
}
