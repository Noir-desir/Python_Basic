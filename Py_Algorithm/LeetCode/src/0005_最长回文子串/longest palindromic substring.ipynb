{
 "cells": [
  {
   "cell_type": "code",
   "execution_count": null,
   "metadata": {
    "collapsed": true
   },
   "outputs": [],
   "source": [
    "def longestPalindrome(s):\n",
    "    \"\"\"\n",
    "    :type s: str\n",
    "    :rtype: str\n",
    "    \"\"\"\n",
    "    if not s or len(s)==1:\n",
    "        return s\n",
    "\n",
    "    l=0\n",
    "    r=len(s)\n",
    "    maxS=0\n",
    "    result=''        \n",
    "    while r-l>maxS:  \n",
    "\n",
    "        while r>l:\n",
    "            # print(r)\n",
    "            strs=s[l:r]\n",
    "            rst=strs[::-1]\n",
    "            # print(strs)\n",
    "            # print(rst)\n",
    "            if strs==rst and maxS<len(s[l:r]):\n",
    "                # print('max:',maxS)\n",
    "                maxS=len(s[l:r])\n",
    "                result=s[l:r]\n",
    "                # print('res',result)\n",
    "                break\n",
    "            else:\n",
    "                r-=1    \n",
    "        l+=1\n",
    "        r=len(s)\n",
    "        # print('l',l)\n",
    "\n",
    "    return result"
   ]
  }
 ],
 "metadata": {
  "kernelspec": {
   "display_name": "Python 3",
   "language": "python",
   "name": "python3"
  },
  "language_info": {
   "codemirror_mode": {
    "name": "ipython",
    "version": 3
   },
   "file_extension": ".py",
   "mimetype": "text/x-python",
   "name": "python",
   "nbconvert_exporter": "python",
   "pygments_lexer": "ipython3",
   "version": "3.6.3"
  }
 },
 "nbformat": 4,
 "nbformat_minor": 2
}
