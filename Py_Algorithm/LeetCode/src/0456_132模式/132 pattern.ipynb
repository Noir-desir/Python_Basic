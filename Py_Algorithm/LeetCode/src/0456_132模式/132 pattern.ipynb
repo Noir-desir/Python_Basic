{
 "cells": [
  {
   "cell_type": "code",
   "execution_count": 3,
   "metadata": {},
   "outputs": [
    {
     "name": "stdout",
     "output_type": "stream",
     "text": [
      "[4]\n",
      "[4, 2]\n",
      "2\n",
      "[4, 3]\n",
      "3\n",
      "4\n",
      "[5]\n",
      "5\n",
      "[6]\n",
      "[6, 5]\n"
     ]
    },
    {
     "data": {
      "text/plain": [
       "True"
      ]
     },
     "execution_count": 3,
     "metadata": {},
     "output_type": "execute_result"
    }
   ],
   "source": [
    "def find132pattern(nums):\n",
    "    \"\"\"\n",
    "    :type nums: List[int]\n",
    "    :rtype: bool\n",
    "    \"\"\"\n",
    "    if len(nums) <=2:\n",
    "        return False\n",
    "# 设第三位为无穷小\n",
    "    third = float('-inf')\n",
    "    n=len(nums)-1\n",
    "    stack = []\n",
    "# 遍历逆序nums \n",
    "    for i in range(n, -1,-1):\n",
    "#如果第一位<第三位则为True\n",
    "        if nums[i] < third:\n",
    "            return True\n",
    "        else:\n",
    "# 循环判断入栈元素，使栈内元素从大到小排列，使得第三位保存元素尽可能大\n",
    "            while stack and stack[-1] < nums[i]:\n",
    "                third = stack.pop()\n",
    "                # print(third)\n",
    "# 元素入栈\n",
    "        stack.append(nums[i])\n",
    "        # print(stack)\n",
    "    return False\n",
    "\n",
    "find132pattern([1,2,3,5,6,5,3,2,4])"
   ]
  }
 ],
 "metadata": {
  "kernelspec": {
   "display_name": "Python 3",
   "language": "python",
   "name": "python3"
  },
  "language_info": {
   "codemirror_mode": {
    "name": "ipython",
    "version": 3
   },
   "file_extension": ".py",
   "mimetype": "text/x-python",
   "name": "python",
   "nbconvert_exporter": "python",
   "pygments_lexer": "ipython3",
   "version": "3.6.3"
  }
 },
 "nbformat": 4,
 "nbformat_minor": 2
}
