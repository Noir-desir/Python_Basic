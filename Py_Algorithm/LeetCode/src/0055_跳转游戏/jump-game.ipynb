{
 "cells": [
  {
   "cell_type": "markdown",
   "metadata": {},
   "source": [
    "# 方法一"
   ]
  },
  {
   "cell_type": "code",
   "execution_count": 13,
   "metadata": {
    "collapsed": false
   },
   "outputs": [
    {
     "name": "stdout",
     "output_type": "stream",
     "text": [
      "True\n"
     ]
    }
   ],
   "source": [
    "def canJump(nums):\n",
    "    far = 0 \n",
    "    for i in range(len(nums)):\n",
    "        if i <= far:  #索引与到达最远距离关系\n",
    "            far = max(far, nums[i] + i)\n",
    "        else:\n",
    "            return False\n",
    "    return True\n",
    "\n",
    "if __name__ == '__main__':\n",
    "    nums = [3,0,5,3,2]\n",
    "    print(canJump(nums))"
   ]
  },
  {
   "cell_type": "markdown",
   "metadata": {},
   "source": [
    "# 方法二"
   ]
  },
  {
   "cell_type": "code",
   "execution_count": 12,
   "metadata": {
    "collapsed": false
   },
   "outputs": [
    {
     "name": "stdout",
     "output_type": "stream",
     "text": [
      "True\n"
     ]
    }
   ],
   "source": [
    "def canJump(nums):\n",
    "        n = len(nums)-1\n",
    "        distance = 1\n",
    "        if n <=0:\n",
    "            return True\n",
    "        for i in range(n-1,-1,-1):\n",
    "            if nums[i] >= distance:\n",
    "                distance = 1\n",
    "            else:\n",
    "                distance += 1\n",
    "            if i==0 and distance>1:\n",
    "                return False\n",
    "        return True\n",
    "\n",
    "if __name__ == '__main__':\n",
    "    nums = [3,0,5,3,2]\n",
    "    print(canJump(nums))"
   ]
  }
 ],
 "metadata": {
  "anaconda-cloud": {},
  "kernelspec": {
   "display_name": "Python [conda root]",
   "language": "python",
   "name": "conda-root-py"
  },
  "language_info": {
   "codemirror_mode": {
    "name": "ipython",
    "version": 3
   },
   "file_extension": ".py",
   "mimetype": "text/x-python",
   "name": "python",
   "nbconvert_exporter": "python",
   "pygments_lexer": "ipython3",
   "version": "3.5.2"
  }
 },
 "nbformat": 4,
 "nbformat_minor": 1
}
