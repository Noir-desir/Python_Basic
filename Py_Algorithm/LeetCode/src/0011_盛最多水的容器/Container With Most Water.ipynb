{
 "cells": [
  {
   "cell_type": "code",
   "execution_count": 1,
   "metadata": {},
   "outputs": [
    {
     "data": {
      "text/plain": [
       "49"
      ]
     },
     "execution_count": 1,
     "metadata": {},
     "output_type": "execute_result"
    }
   ],
   "source": [
    "# 二分法遍历所有结果，存储最大值\n",
    "\n",
    "def maxArea(height):\n",
    "    \"\"\"\n",
    "    :type height: List[int]\n",
    "    :rtype: int\n",
    "    \"\"\"\n",
    "    l=0\n",
    "    r=len(height)-1\n",
    "    maxArea=0\n",
    "    while l<r:\n",
    "        if height[l]>=height[r]:\n",
    "            Area=(r-l)*height[r]\n",
    "            r-=1\n",
    "            # print('A1',Area)\n",
    "        elif height[l]<height[r]:\n",
    "            Area=(r-l)*height[l]\n",
    "            l+=1\n",
    "            # print('A2',Area)\n",
    "        # print(l,r)\n",
    "        maxArea=max(Area,maxArea)\n",
    "\n",
    "    return maxArea\n",
    "\n",
    "maxArea([1,8,6,2,5,4,8,3,7])"
   ]
  }
 ],
 "metadata": {
  "kernelspec": {
   "display_name": "Python 3",
   "language": "python",
   "name": "python3"
  },
  "language_info": {
   "codemirror_mode": {
    "name": "ipython",
    "version": 3
   },
   "file_extension": ".py",
   "mimetype": "text/x-python",
   "name": "python",
   "nbconvert_exporter": "python",
   "pygments_lexer": "ipython3",
   "version": "3.6.3"
  }
 },
 "nbformat": 4,
 "nbformat_minor": 2
}
