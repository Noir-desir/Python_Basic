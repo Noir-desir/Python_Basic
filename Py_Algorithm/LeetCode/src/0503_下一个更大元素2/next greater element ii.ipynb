{
 "cells": [
  {
   "cell_type": "code",
   "execution_count": 30,
   "metadata": {},
   "outputs": [
    {
     "data": {
      "text/plain": [
       "[9, 11, 9, 9, 11, -1, 11, -1]"
      ]
     },
     "execution_count": 30,
     "metadata": {},
     "output_type": "execute_result"
    }
   ],
   "source": [
    "def nextGreaterElements(nums):\n",
    "    \"\"\"\n",
    "    :type nums: List[int]\n",
    "    :rtype: List[int]\n",
    "    \"\"\"\n",
    "    stack = [] \n",
    "    lenth=len(nums)\n",
    "    res = [-1 for _ in range(lenth)]\n",
    "    for i in range(lenth):\n",
    "        while stack and nums[i] > nums[stack[-1]]:\n",
    "            res[stack.pop()] = nums[i]\n",
    "        else:\n",
    "            stack.append(i)\n",
    "        \n",
    "    for i in range(lenth):\n",
    "        while stack and nums[i] > nums[stack[-1]]:\n",
    "            res[stack.pop()] = nums[i]\n",
    "            \n",
    "    return res \n",
    "\n",
    "\n",
    "nextGreaterElements([8,9,7,6,9,11,-5,11])"
   ]
  }
 ],
 "metadata": {
  "kernelspec": {
   "display_name": "Python 3",
   "language": "python",
   "name": "python3"
  },
  "language_info": {
   "codemirror_mode": {
    "name": "ipython",
    "version": 3
   },
   "file_extension": ".py",
   "mimetype": "text/x-python",
   "name": "python",
   "nbconvert_exporter": "python",
   "pygments_lexer": "ipython3",
   "version": "3.6.3"
  }
 },
 "nbformat": 4,
 "nbformat_minor": 2
}
