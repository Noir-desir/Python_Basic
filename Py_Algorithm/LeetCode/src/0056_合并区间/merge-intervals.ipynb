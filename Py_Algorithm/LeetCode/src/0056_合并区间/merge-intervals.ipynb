{
 "cells": [
  {
   "cell_type": "markdown",
   "metadata": {},
   "source": [
    "# 方法一"
   ]
  },
  {
   "cell_type": "code",
   "execution_count": 2,
   "metadata": {
    "collapsed": false
   },
   "outputs": [
    {
     "name": "stdout",
     "output_type": "stream",
     "text": [
      "[[1, 5]]\n"
     ]
    }
   ],
   "source": [
    "class Solution(object):\n",
    "    def merge(self, intervals):\n",
    "        \"\"\"\n",
    "        :type intervals: List[List[int]]\n",
    "        :rtype: List[List[int]]\n",
    "        \"\"\"\n",
    "        intervals.sort()\n",
    "        res = []\n",
    "        i ,n = 0 ,len(intervals)\n",
    "        while i < n:\n",
    "            left = intervals[i][0]\n",
    "            right = intervals[i][1]\n",
    "            # 考虑【1，5】【3，4】情况下，组成【1，5】\n",
    "            while i < n-1 and right>= intervals[i+1][0]:\n",
    "                right = max(right, intervals[i+1][1])\n",
    "                i+=1\n",
    "            res.append([left, right])\n",
    "            i+=1\n",
    "        return res\n",
    "    \n",
    "if __name__ == '__main__':\n",
    "    intervals= [[1,4],[4,5]]\n",
    "    print(Solution().merge(intervals))"
   ]
  },
  {
   "cell_type": "markdown",
   "metadata": {},
   "source": [
    "# 方法二 \n",
    "\n",
    "最快解决"
   ]
  },
  {
   "cell_type": "code",
   "execution_count": 3,
   "metadata": {
    "collapsed": false
   },
   "outputs": [
    {
     "name": "stdout",
     "output_type": "stream",
     "text": [
      "[[1, 5]]\n"
     ]
    }
   ],
   "source": [
    "class Solution(object):\n",
    "    def merge(self, intervals):\n",
    "        \"\"\"\n",
    "        :type intervals: List[List[int]]\n",
    "        :rtype: List[List[int]]\n",
    "        \"\"\"\n",
    "        def fo1(tu):\n",
    "            return tu[0]\n",
    "        \n",
    "        if not intervals:\n",
    "            return intervals\n",
    "        \n",
    "        intervals.sort(key=fo1)\n",
    "        \n",
    "        nlen = len(intervals)\n",
    "        \n",
    "        res = [intervals[0]]\n",
    "        for ele in intervals[1:]:\n",
    "            if res[-1][1] >= ele[0]:\n",
    "                res[-1][1] = max(res[-1][1], ele[1])\n",
    "            else:\n",
    "                res.append(ele)\n",
    "        return res\n",
    "    \n",
    "if __name__ == '__main__':\n",
    "    intervals= [[1,4],[4,5]]\n",
    "    print(Solution().merge(intervals))"
   ]
  }
 ],
 "metadata": {
  "kernelspec": {
   "display_name": "Python [default]",
   "language": "python",
   "name": "python3"
  },
  "language_info": {
   "codemirror_mode": {
    "name": "ipython",
    "version": 3
   },
   "file_extension": ".py",
   "mimetype": "text/x-python",
   "name": "python",
   "nbconvert_exporter": "python",
   "pygments_lexer": "ipython3",
   "version": "3.5.2"
  }
 },
 "nbformat": 4,
 "nbformat_minor": 1
}
