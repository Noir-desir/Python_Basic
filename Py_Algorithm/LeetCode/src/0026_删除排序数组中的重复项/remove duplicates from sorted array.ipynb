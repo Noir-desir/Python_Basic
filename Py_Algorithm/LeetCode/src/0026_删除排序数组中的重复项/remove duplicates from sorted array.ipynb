{
 "cells": [
  {
   "cell_type": "code",
   "execution_count": 2,
   "metadata": {},
   "outputs": [
    {
     "data": {
      "text/plain": [
       "5"
      ]
     },
     "execution_count": 2,
     "metadata": {},
     "output_type": "execute_result"
    }
   ],
   "source": [
    "def removeDuplicates(nums):\n",
    "    \"\"\"\n",
    "    :type nums: List[int]\n",
    "    :rtype: int\n",
    "    \"\"\"\n",
    "    if not nums:\n",
    "        return 0\n",
    "# 双指针index 与 i\n",
    "# 要求在原列表操作：如果值相等，交换index与i索引的值，最后统计index\n",
    "    index = 0\n",
    "    for i in range(1, len(nums)):\n",
    "        if nums[i] != nums[index]:\n",
    "            index = index + 1\n",
    "            nums[index] = nums[i]\n",
    "        # print(i,nums)\n",
    "\n",
    "    return index + 1\n",
    "removeDuplicates([0,0,1,1,1,2,2,3,3,4])"
   ]
  }
 ],
 "metadata": {
  "kernelspec": {
   "display_name": "Python 3",
   "language": "python",
   "name": "python3"
  },
  "language_info": {
   "codemirror_mode": {
    "name": "ipython",
    "version": 3
   },
   "file_extension": ".py",
   "mimetype": "text/x-python",
   "name": "python",
   "nbconvert_exporter": "python",
   "pygments_lexer": "ipython3",
   "version": "3.6.3"
  }
 },
 "nbformat": 4,
 "nbformat_minor": 2
}
