{
 "cells": [
  {
   "cell_type": "code",
   "execution_count": 2,
   "metadata": {
    "collapsed": false
   },
   "outputs": [
    {
     "data": {
      "text/plain": [
       "-1"
      ]
     },
     "execution_count": 2,
     "metadata": {},
     "output_type": "execute_result"
    }
   ],
   "source": [
    "# enumerate()函数的用法:输出由有序对象索引/值组成的元组对象\n",
    "def search(nums, target):\n",
    "    \"\"\"\n",
    "    :type nums: List[int]\n",
    "    :type target: int\n",
    "    :rtype: int\n",
    "    \"\"\"\n",
    "    for index, num in enumerate(nums):\n",
    "        if num == target:\n",
    "            return index\n",
    "\n",
    "    return -1\n",
    "\n",
    "nums=[4,5,6,7,8,9,0,1,2,3]\n",
    "target=10\n",
    "\n",
    "search(nums, target)"
   ]
  },
  {
   "cell_type": "code",
   "execution_count": 12,
   "metadata": {
    "collapsed": false
   },
   "outputs": [
    {
     "data": {
      "text/plain": [
       "2"
      ]
     },
     "execution_count": 12,
     "metadata": {},
     "output_type": "execute_result"
    }
   ],
   "source": [
    "# 二分法\n",
    "def search1(nums, target):\n",
    "    \"\"\"\n",
    "    :type nums: List[int]\n",
    "    :type target: int\n",
    "    :rtype: int\n",
    "    \"\"\"\n",
    "    left = 0\n",
    "    right = len(nums)-1\n",
    "    \n",
    "    while left <= right:\n",
    "        mid = left + right\n",
    "        if target== nums[mid]:\n",
    "            return mid\n",
    "        elif nums[mid]>nums[left]:\n",
    "            if nums[mid]>target and target>=nums[left]:\n",
    "                right = mid -1\n",
    "            else:\n",
    "                left = mid + 1\n",
    "        else:\n",
    "            if nums[mid]<target and target<=nums[right]:\n",
    "                left =mid +1\n",
    "            else:\n",
    "                right =mid -1\n",
    "    return -1\n",
    "        \n",
    "        \n",
    "\n",
    "\n",
    "nums=[4,5,6,7,8,9,0,1,2,3]\n",
    "target=6\n",
    "\n",
    "search1(nums, target)"
   ]
  }
 ],
 "metadata": {
  "anaconda-cloud": {},
  "kernelspec": {
   "display_name": "Python [conda root]",
   "language": "python",
   "name": "conda-root-py"
  },
  "language_info": {
   "codemirror_mode": {
    "name": "ipython",
    "version": 3
   },
   "file_extension": ".py",
   "mimetype": "text/x-python",
   "name": "python",
   "nbconvert_exporter": "python",
   "pygments_lexer": "ipython3",
   "version": "3.5.2"
  }
 },
 "nbformat": 4,
 "nbformat_minor": 1
}
