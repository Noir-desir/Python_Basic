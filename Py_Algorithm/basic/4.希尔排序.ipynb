{
 "cells": [
  {
   "cell_type": "markdown",
   "metadata": {},
   "source": [
    "# 希尔排序\n",
    "\n",
    "希尔排序，也称递减增量排序算法，是插入排序的一种更高效的改进版本。但希尔排序是非稳定排序算法。\n",
    "\n",
    "希尔排序是基于插入排序的以下两点性质而提出改进方法的：\n",
    "\n",
    " - 插入排序在对几乎已经排好序的数据操作时，效率高，即可以达到线性排序的效率；\n",
    " - 但插入排序一般来说是低效的，因为插入排序每次只能将数据移动一位；\n",
    "\n",
    "希尔排序的基本思想是：先将整个待排序的记录序列分割成为若干子序列分别进行直接插入排序，待整个序列中的记录“基本有序”时，再对全体记录进行依次直接插入排序。\n",
    "\n",
    "## 1. 算法步骤\n",
    "\n",
    "1. 选择一个增量序列 t1，t2，……，tk，其中 ti > tj, tk = 1；\n",
    "\n",
    "2. 按增量序列个数 k，对序列进行 k 趟排序；\n",
    "\n",
    "3. 每趟排序，根据对应的增量 ti，将待排序列分割成若干长度为 m 的子序列，分别对各子表进行直接插入排序。仅增量因子为 1 时，整个序列作为一个表来处理，表长度即为整个序列的长度。\n",
    "\n",
    "## 2. Python 代码实现"
   ]
  },
  {
   "cell_type": "code",
   "execution_count": 3,
   "metadata": {},
   "outputs": [
    {
     "data": {
      "text/plain": [
       "[6, 8, 9, 46, 48, 65, 86, 89, 236, 894, 897]"
      ]
     },
     "execution_count": 3,
     "metadata": {},
     "output_type": "execute_result"
    }
   ],
   "source": [
    "def shellSort(nums):\n",
    "    l=len(nums)\n",
    "    gap=len(nums)\n",
    "    while gap>0:\n",
    "        for i in range(gap,l):\n",
    "            for j in range(i,gap -1,-gap):\n",
    "                if nums[j-gap]>nums[j]:\n",
    "                    nums[j],nums[j-gap]=nums[j-gap],nums[j]\n",
    "        if gap ==2:\n",
    "            gap = 1\n",
    "        else:\n",
    "            gap = gap //2\n",
    "    \n",
    "    return nums\n",
    "\n",
    "shellSort([8,9,894,65,897,236,48,6,86,46,89])"
   ]
  }
 ],
 "metadata": {
  "kernelspec": {
   "display_name": "Python 3",
   "language": "python",
   "name": "python3"
  },
  "language_info": {
   "codemirror_mode": {
    "name": "ipython",
    "version": 3
   },
   "file_extension": ".py",
   "mimetype": "text/x-python",
   "name": "python",
   "nbconvert_exporter": "python",
   "pygments_lexer": "ipython3",
   "version": "3.6.3"
  }
 },
 "nbformat": 4,
 "nbformat_minor": 2
}
