{
 "cells": [
  {
   "cell_type": "markdown",
   "metadata": {},
   "source": [
    "# 堆排序\n",
    "\n",
    "堆排序（Heapsort）是指利用堆这种数据结构所设计的一种排序算法。堆积是一个近似完全二叉树的结构，并同时满足堆积的性质：即子结点的键值或索引总是小于（或者大于）它的父节点。堆排序可以说是一种利用堆的概念来排序的选择排序。分为两种方法：\n",
    "\n",
    "1. 大顶堆：每个节点的值都大于或等于其子节点的值，在堆排序算法中用于升序排列；\n",
    "2. 小顶堆：每个节点的值都小于或等于其子节点的值，在堆排序算法中用于降序排列；\n",
    "\n",
    "堆排序的平均时间复杂度为 Ο(nlogn)。\n",
    "\n",
    "\n",
    "## 1. 算法步骤\n",
    "\n",
    "1. 创建一个堆 H[0……n-1]；\n",
    "\n",
    "2. 把堆首（最大值）和堆尾互换；\n",
    "\n",
    "3. 把堆的尺寸缩小 1，并调用 shift_down(0)，目的是把新的数组顶端数据调整到相应位置；\n",
    "\n",
    "4. 重复步骤 2，直到堆的尺寸为 1。\n",
    "\n",
    "\n",
    "## 2. 动图演示\n",
    "\n",
    "![动图演示](res/heapSort.gif)\n",
    "\n",
    "## 3. Python 代码实现"
   ]
  },
  {
   "cell_type": "code",
   "execution_count": 2,
   "metadata": {},
   "outputs": [
    {
     "data": {
      "text/plain": [
       "[7, 16, 16, 69, 89, 94, 216, 568, 654, 689, 8947]"
      ]
     },
     "execution_count": 2,
     "metadata": {},
     "output_type": "execute_result"
    }
   ],
   "source": [
    "def buildMaxHeap(arr):\n",
    "    import math\n",
    "    for i in range(math.floor(len(arr)/2),-1,-1):\n",
    "        heapify(arr,i)\n",
    "\n",
    "def heapify(arr, i):\n",
    "    left = 2*i+1\n",
    "    right = 2*i+2\n",
    "    largest = i\n",
    "    if left < arrLen and arr[left] > arr[largest]:\n",
    "        largest = left\n",
    "    if right < arrLen and arr[right] > arr[largest]:\n",
    "        largest = right\n",
    "\n",
    "    if largest != i:\n",
    "        swap(arr, i, largest)\n",
    "        heapify(arr, largest)\n",
    "\n",
    "def swap(arr, i, j):\n",
    "    arr[i], arr[j] = arr[j], arr[i]\n",
    "\n",
    "def heapSort(arr):\n",
    "    global arrLen\n",
    "    arrLen = len(arr)\n",
    "    buildMaxHeap(arr)\n",
    "    for i in range(len(arr)-1,0,-1):\n",
    "        swap(arr,0,i)\n",
    "        arrLen -=1\n",
    "        heapify(arr, 0)\n",
    "    return arr\n",
    "heapSort([7,89,8947,568,216,94,654,16,689,69,16])"
   ]
  }
 ],
 "metadata": {
  "kernelspec": {
   "display_name": "Python 3",
   "language": "python",
   "name": "python3"
  },
  "language_info": {
   "codemirror_mode": {
    "name": "ipython",
    "version": 3
   },
   "file_extension": ".py",
   "mimetype": "text/x-python",
   "name": "python",
   "nbconvert_exporter": "python",
   "pygments_lexer": "ipython3",
   "version": "3.6.3"
  }
 },
 "nbformat": 4,
 "nbformat_minor": 2
}
