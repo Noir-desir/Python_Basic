{
 "cells": [
  {
   "cell_type": "markdown",
   "metadata": {},
   "source": [
    "# 选择排序\n",
    "选择排序是一种简单直观的排序算法，无论什么数据进去都是 O(n²) 的时间复杂度。所以用到它的时候，数据规模越小越好。  \n",
    "唯一的好处可能就是不占用额外的内存空间了吧。\n",
    "\n",
    "## 1. 算法步骤\n",
    "\n",
    "1. 首先在未排序序列中找到最小（大）元素，存放到排序序列的起始位置\n",
    "\n",
    "2. 再从剩余未排序元素中继续寻找最小（大）元素，然后放到已排序序列的末尾。\n",
    "\n",
    "3. 重复第二步，直到所有元素均排序完毕。\n",
    "\n",
    "## 2. 动图演示\n",
    "\n",
    "![动图演示](res/selectionSort.gif)\n",
    "\n",
    "## 3. Python 代码实现"
   ]
  },
  {
   "cell_type": "code",
   "execution_count": 14,
   "metadata": {},
   "outputs": [
    {
     "data": {
      "text/plain": [
       "[4, 6.6498, 8, 9, 35, 56, 65, 89, 97, 358, 548, 659, 4165, 6265]"
      ]
     },
     "execution_count": 14,
     "metadata": {},
     "output_type": "execute_result"
    }
   ],
   "source": [
    "def selectSort(nums):\n",
    "    for i in range(len(nums)-1):\n",
    "        minIndex=i\n",
    "        for j in range(i+1,len(nums)):\n",
    "            if nums[minIndex]> nums[j]:\n",
    "                minIndex = j \n",
    "        if minIndex != i:\n",
    "            nums[minIndex],nums[i]=nums[i],nums[minIndex]\n",
    "    return nums\n",
    "\n",
    "selectSort([8,9,6.6498,89,56,97,6265,358,659,35,4165,548,65,4])"
   ]
  }
 ],
 "metadata": {
  "kernelspec": {
   "display_name": "Python 3",
   "language": "python",
   "name": "python3"
  },
  "language_info": {
   "codemirror_mode": {
    "name": "ipython",
    "version": 3
   },
   "file_extension": ".py",
   "mimetype": "text/x-python",
   "name": "python",
   "nbconvert_exporter": "python",
   "pygments_lexer": "ipython3",
   "version": "3.6.3"
  }
 },
 "nbformat": 4,
 "nbformat_minor": 2
}
