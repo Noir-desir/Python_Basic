{
 "cells": [
  {
   "cell_type": "markdown",
   "metadata": {},
   "source": [
    "# 冒泡排序\n",
    "\n",
    "## 1. 算法步骤\n",
    "\n",
    "1. 比较相邻的元素。如果第一个比第二个大，就交换他们两个。\n",
    "\n",
    "2. 对每一对相邻元素作同样的工作，从开始第一对到结尾的最后一对。这步做完后，最后的元素会是最大的数。\n",
    "\n",
    "3. 针对所有的元素重复以上的步骤，除了最后一个。\n",
    "\n",
    "4. 持续每次对越来越少的元素重复上面的步骤，直到没有任何一对数字需要比较。\n",
    "\n",
    "## 2. 动图演示\n",
    "\n",
    "![动图演示](res/bubbleSort.gif)\n",
    "\n",
    "## 3. 什么时候最快\n",
    "\n",
    "当输入的数据已经是正序时（都已经是正序了，我还要你冒泡排序有何用啊）。\n",
    "\n",
    "\n",
    "## 4. 什么时候最慢\n",
    "\n",
    "当输入的数据是反序时（[::-1]就可以解决）。\n"
   ]
  },
  {
   "cell_type": "code",
   "execution_count": null,
   "metadata": {
    "collapsed": true
   },
   "outputs": [],
   "source": [
    "def bubbleSort(nums):\n",
    "    for i in range(1,len(nums)):\n",
    "        for j in range(0,len(nums)-i):\n",
    "            if nums[j]>nums[j+1]:\n",
    "                nums[j],nums[j+1]=nums[j+1],nums[j]\n",
    "    return nums\n",
    "\n"
   ]
  }
 ],
 "metadata": {
  "kernelspec": {
   "display_name": "Python 3",
   "language": "python",
   "name": "python3"
  },
  "language_info": {
   "codemirror_mode": {
    "name": "ipython",
    "version": 3
   },
   "file_extension": ".py",
   "mimetype": "text/x-python",
   "name": "python",
   "nbconvert_exporter": "python",
   "pygments_lexer": "ipython3",
   "version": "3.6.3"
  }
 },
 "nbformat": 4,
 "nbformat_minor": 2
}
